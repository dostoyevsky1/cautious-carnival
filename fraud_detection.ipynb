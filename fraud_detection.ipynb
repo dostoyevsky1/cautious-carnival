{
 "cells": [
  {
   "cell_type": "code",
   "execution_count": 1,
   "metadata": {
    "colab": {},
    "colab_type": "code",
    "id": "N3ocdz4ASe_r"
   },
   "outputs": [],
   "source": [
    "import timeit\n",
    "import pandas as pd\n",
    "import numpy as np\n",
    "from sklearn.impute import SimpleImputer\n",
    "from sklearn.preprocessing import StandardScaler\n",
    "from sklearn.utils.class_weight import compute_sample_weight\n",
    "from sklearn.metrics import roc_auc_score, accuracy_score\n",
    "from sklearn.model_selection import train_test_split, GridSearchCV, \\\n",
    "                                    cross_val_score\n",
    "from sklearn.linear_model import LogisticRegression\n",
    "from sklearn.ensemble import RandomForestClassifier\n",
    "from sklearn.svm import SVC\n",
    "import plotly.tools as pt\n",
    "import plotly.io as pio\n",
    "import chart_studio as cs\n",
    "import plotly.graph_objs as go\n",
    "import seaborn as sns\n",
    "sns.set('paper')"
   ]
  },
  {
   "cell_type": "code",
   "execution_count": null,
   "metadata": {
    "colab": {
     "base_uri": "https://localhost:8080/",
     "height": 124
    },
    "colab_type": "code",
    "id": "yCDFPP3WS-GC",
    "outputId": "2504a376-a3b9-4d43-e3ae-5495558943f6"
   },
   "outputs": [],
   "source": [
    "# from google.colab import drive\n",
    "# drive.mount('/content/gdrive')"
   ]
  },
  {
   "cell_type": "code",
   "execution_count": null,
   "metadata": {
    "colab": {},
    "colab_type": "code",
    "id": "ceTSU1fFXRfE"
   },
   "outputs": [],
   "source": [
    "# transaction_df = pd.read_csv('gdrive/My Drive/ieee-fraud-detection/train_transaction.csv')"
   ]
  },
  {
   "cell_type": "code",
   "execution_count": null,
   "metadata": {
    "colab": {},
    "colab_type": "code",
    "id": "jcHzJw3Xm1tJ"
   },
   "outputs": [],
   "source": [
    "\n",
    "# cat_cols = [column for column in transaction_df.columns if transaction_df[column].dtype == np.dtype('O') or transaction_df[column].value_counts().keys().shape[0] <= 2]\n",
    "\n",
    "# dummies = pd.get_dummies(transaction_df[cat_cols].astype('category'),drop_first=True,dummy_na=True).astype('category')\n",
    "\n",
    "# transaction_df = pd.concat([transaction_df.drop(cat_cols,axis=1), dummies],axis=1)\n",
    "\n",
    "# null_cols = [column for column in transaction_df.columns if transaction_df[column].value_counts().keys().shape[0] == 1]\n",
    "\n",
    "# transaction_df = transaction_df.drop(null_cols,axis=1)\n",
    "\n",
    "# transaction_df = transaction_df.rename(columns={'isFraud_1.0':'isFraud'})\n",
    "\n",
    "# card1 = transaction_df.card1.astype('category')\n",
    "\n",
    "# transaction_df = pd.concat([transaction_df.drop('card1',axis=1),card1],axis=1)"
   ]
  },
  {
   "cell_type": "code",
   "execution_count": null,
   "metadata": {
    "colab": {},
    "colab_type": "code",
    "id": "dQ34r9FuhogH"
   },
   "outputs": [],
   "source": [
    "# remove_n = 589000\n",
    "# drop_indices = np.random.choice(transaction_df.index,remove_n,replace=False)\n",
    "# transaction_df = transaction_df.drop(drop_indices)"
   ]
  },
  {
   "cell_type": "code",
   "execution_count": null,
   "metadata": {
    "colab": {},
    "colab_type": "code",
    "id": "1S4LaRbbIMkz"
   },
   "outputs": [],
   "source": [
    "# transaction_df.to_csv('gdrive/My Drive/ieee-fraud-detection/transaction_df_compressed.csv')"
   ]
  },
  {
   "cell_type": "code",
   "execution_count": 2,
   "metadata": {
    "colab": {},
    "colab_type": "code",
    "id": "u_owgqt4VLxW"
   },
   "outputs": [],
   "source": [
    "transaction_df = pd.read_csv('./ieee-fraud-detection/transaction_df_compressed.csv')"
   ]
  },
  {
   "cell_type": "code",
   "execution_count": 3,
   "metadata": {},
   "outputs": [],
   "source": [
    "transaction_df = transaction_df.drop('Unnamed: 0',axis=1)"
   ]
  },
  {
   "cell_type": "code",
   "execution_count": 4,
   "metadata": {},
   "outputs": [],
   "source": [
    "data_types = [transaction_df[column].dtype for column in transaction_df.columns]\n",
    "data_types.reverse()\n",
    "cat_start_idx = len(data_types) - data_types.index(np.dtype('float64'))"
   ]
  },
  {
   "cell_type": "markdown",
   "metadata": {
    "colab_type": "text",
    "id": "slbuNtj3ARbo"
   },
   "source": [
    "Number of NAN per variable barplot"
   ]
  },
  {
   "cell_type": "code",
   "execution_count": null,
   "metadata": {
    "colab": {
     "base_uri": "https://localhost:8080/",
     "height": 542
    },
    "colab_type": "code",
    "id": "EvwCMkk3YrJi",
    "outputId": "3a762d79-5683-4da5-fae8-84e4d14016db"
   },
   "outputs": [],
   "source": [
    "features = transaction_df.iloc[:,:cat_start_idx].isna().sum().keys()\n",
    "missing = transaction_df.iloc[:,:cat_start_idx].isna().sum().values\n",
    "\n",
    "layout = go.Layout(\n",
    "autosize=True,\n",
    "title='Missing Values per Feature',\n",
    "yaxis=dict(\n",
    "    autorange=True,\n",
    "    showgrid=True,\n",
    "    zeroline=True,\n",
    "    dtick=0,\n",
    "    gridcolor='rgb(255, 255, 255)',\n",
    "    gridwidth=1,\n",
    "    zerolinecolor='rgb(255, 255, 255)',\n",
    "    zerolinewidth=2,\n",
    "),\n",
    "margin=dict(\n",
    "    l=40,\n",
    "    r=30,\n",
    "    b=80,\n",
    "    t=100,\n",
    "),\n",
    "paper_bgcolor='rgb(243, 243, 243)',\n",
    "plot_bgcolor='rgb(243, 243, 243)',\n",
    "showlegend=False\n",
    ")\n",
    "\n",
    "fig = go.Figure([go.Bar(x=features, y = missing,\n",
    "                        marker_color = 'rgba(207, 114, 255, 0.5)')],layout=layout)\n",
    "fig.show()"
   ]
  },
  {
   "cell_type": "markdown",
   "metadata": {
    "colab_type": "text",
    "id": "UAFjIhI2Adpa"
   },
   "source": [
    "Class balance barplot"
   ]
  },
  {
   "cell_type": "code",
   "execution_count": null,
   "metadata": {
    "colab": {
     "base_uri": "https://localhost:8080/",
     "height": 542
    },
    "colab_type": "code",
    "id": "gxHH7adPYsfO",
    "outputId": "643de8e9-3951-49a7-be0d-3c8a49b72f59"
   },
   "outputs": [],
   "source": [
    "not_fraud_count = transaction_df['isFraud'].value_counts().values[0]\n",
    "fraud_count = transaction_df['isFraud'].value_counts().values[1]\n",
    "\n",
    "layout = go.Layout(\n",
    "autosize=True,\n",
    "title='Class Imbalance',\n",
    "yaxis=dict(\n",
    "    autorange=True,\n",
    "    showgrid=True,\n",
    "    zeroline=True,\n",
    "    dtick=0,\n",
    "    gridcolor='rgb(255, 255, 255)',\n",
    "    gridwidth=1,\n",
    "    zerolinecolor='rgb(255, 255, 255)',\n",
    "    zerolinewidth=2,\n",
    "),\n",
    "margin=dict(\n",
    "    l=40,\n",
    "    r=30,\n",
    "    b=80,\n",
    "    t=100,\n",
    "),\n",
    "paper_bgcolor='rgb(243, 243, 243)',\n",
    "plot_bgcolor='rgb(243, 243, 243)',\n",
    "showlegend=False\n",
    ")\n",
    "\n",
    "fig = go.Figure([go.Bar(x=['Fraud','Not Fraud'], y = [fraud_count/transaction_df.shape[0],\n",
    "                                                      not_fraud_count/transaction_df.shape[0]], \n",
    "                        marker_color = 'rgba(255, 65, 54, 0.5)')], layout=layout)\n",
    "fig.show()"
   ]
  },
  {
   "cell_type": "markdown",
   "metadata": {
    "colab_type": "text",
    "id": "gHCeAGEVAidW"
   },
   "source": [
    "Train-Test Split"
   ]
  },
  {
   "cell_type": "code",
   "execution_count": 5,
   "metadata": {
    "colab": {},
    "colab_type": "code",
    "id": "niwBf30BhDZS"
   },
   "outputs": [],
   "source": [
    "X = np.array(transaction_df.drop(['isFraud','TransactionID'],axis=1))"
   ]
  },
  {
   "cell_type": "code",
   "execution_count": 6,
   "metadata": {
    "colab": {},
    "colab_type": "code",
    "id": "95QV_sGOhww0"
   },
   "outputs": [],
   "source": [
    "Y = np.array(transaction_df['isFraud']).reshape((-1,))"
   ]
  },
  {
   "cell_type": "code",
   "execution_count": null,
   "metadata": {
    "colab": {},
    "colab_type": "code",
    "id": "LkLOm_NNh74I"
   },
   "outputs": [],
   "source": [
    "del transaction_df"
   ]
  },
  {
   "cell_type": "markdown",
   "metadata": {
    "colab_type": "text",
    "id": "h8lhWfByApOg"
   },
   "source": [
    "## Model Fitting for N-learn = 0.9"
   ]
  },
  {
   "cell_type": "code",
   "execution_count": 66,
   "metadata": {
    "colab": {},
    "colab_type": "code",
    "id": "1ZQzj1qTBDAe"
   },
   "outputs": [],
   "source": [
    "### Data capture lists: Train/Test Errors, Execution Time, Coefficients\n",
    "\n",
    "logit_train_ls = []\n",
    "logit_test_ls = []\n",
    "logit_auc = []\n",
    "\n",
    "\n",
    "logit_ridge_train_ls = []\n",
    "logit_ridge_test_ls = []\n",
    "logit_ridge_auc = []\n",
    "\n",
    "logit_lasso_train_ls = []\n",
    "logit_lasso_test_ls = []\n",
    "logit_lasso_auc = []\n",
    "\n",
    "rf_train_ls = []\n",
    "rf_test_ls = []\n",
    "rf_auc = []\n",
    "\n",
    "svm_train_ls = []\n",
    "svm_test_ls = []\n",
    "svm_auc = []\n",
    "\n",
    "logit_time = []\n",
    "logit_ridge_time = []\n",
    "logit_lasso_time = []\n",
    "svm_time = []\n",
    "rf_time = []\n",
    "\n",
    "logit_ridge_cv_time = []\n",
    "logit_lasso_cv_time = []\n",
    "svm_cv_time = []\n",
    "\n",
    "logit_coefs = []\n",
    "lasso_coefs = []\n",
    "ridge_coefs = []"
   ]
  },
  {
   "cell_type": "code",
   "execution_count": 67,
   "metadata": {
    "colab": {
     "base_uri": "https://localhost:8080/",
     "height": 86
    },
    "colab_type": "code",
    "id": "IE0pRTpiP_jr",
    "outputId": "35220f81-445a-489d-9ee5-c97d0a5adc9a"
   },
   "outputs": [
    {
     "name": "stderr",
     "output_type": "stream",
     "text": [
      "/Users/mdrozdov/anaconda3/lib/python3.7/site-packages/sklearn/linear_model/_sag.py:330: ConvergenceWarning:\n",
      "\n",
      "The max_iter was reached which means the coef_ did not converge\n",
      "\n",
      "/Users/mdrozdov/anaconda3/lib/python3.7/site-packages/sklearn/linear_model/_sag.py:330: ConvergenceWarning:\n",
      "\n",
      "The max_iter was reached which means the coef_ did not converge\n",
      "\n"
     ]
    },
    {
     "name": "stdout",
     "output_type": "stream",
     "text": [
      "loop time is:105.30218955400005\n"
     ]
    }
   ],
   "source": [
    "### Parameter Grids for Logit & SVM GridSearch\n",
    "\n",
    "svm_param_grid = {'C':np.linspace(10**-2, 10**2, 5),\n",
    "                  'gamma':np.linspace(10**-2, 10**2, 5)}\n",
    "\n",
    "param_grid_logit = {'C':np.linspace(1e-4,1,25)}\n",
    "\n",
    "\n",
    "for _ in range(1):\n",
    "    loop_start = timeit.default_timer()\n",
    "    ### Data Split\n",
    "\n",
    "    x_train09, x_test09, y_train09, y_test09 = train_test_split(X,Y, test_size = 0.1, stratify = Y)\n",
    "\n",
    "    ### Preprocessing -- Missingness Imputation & Scaling\n",
    "\n",
    "    imputer = SimpleImputer().fit(x_train09)\n",
    "    x_train09 = imputer.transform(x_train09)\n",
    "    x_test09 = imputer.transform(x_test09)\n",
    "\n",
    "    scaler = StandardScaler().fit(x_train09)\n",
    "    x_train09 = scaler.transform(x_train09)\n",
    "    x_test09 = scaler.transform(x_test09)\n",
    "\n",
    "    ### Sample Weights\n",
    "\n",
    "    sample_weights = compute_sample_weight('balanced',y_train09)\n",
    "\n",
    "\n",
    "    ### Logistic Regression\n",
    "\n",
    "    logit = LogisticRegression(penalty = 'none', class_weight = 'balanced',n_jobs=-1,\n",
    "                               solver = 'lbfgs')\n",
    "\n",
    "    t_start = timeit.default_timer()\n",
    "    logit.fit(x_train09,y_train09,sample_weight=sample_weights)\n",
    "    t_end = timeit.default_timer()\n",
    "\n",
    "    logit_time.append(t_end-t_start)\n",
    "    \n",
    "    train_preds = logit.predict(x_train09)\n",
    "    test_preds = logit.predict(x_test09)\n",
    "\n",
    "    logit_train_ls.append(1-accuracy_score(y_train09,train_preds))\n",
    "    logit_test_ls.append(1-accuracy_score(y_test09, test_preds))\n",
    "\n",
    "    logit_auc.append(roc_auc_score(y_test09, test_preds))\n",
    "\n",
    "    logit_coefs.append(logit.coef_)\n",
    "    \n",
    "    ### Logistic Ridge CV (L2 Penalty)\n",
    "\n",
    "\n",
    "    ridge = LogisticRegression(penalty = 'l2', solver = 'lbfgs', n_jobs = -1, class_weight = 'balanced')\n",
    "\n",
    "    ridgeCV = GridSearchCV(ridge, param_grid_logit, cv = 10, n_jobs = -1)\n",
    "\n",
    "    t_start = timeit.default_timer()\n",
    "    ridgeCV.fit(x_train09, y_train09)\n",
    "    t_end = timeit.default_timer()\n",
    "\n",
    "    logit_ridge_cv_time.append(t_end-t_start)\n",
    "\n",
    "    ridge = ridgeCV.best_estimator_\n",
    "\n",
    "    t_start = timeit.default_timer()\n",
    "    ridge.fit(x_train09, y_train09,sample_weight=sample_weights)\n",
    "    t_end = timeit.default_timer()\n",
    "\n",
    "    logit_ridge_time.append(t_end-t_start)\n",
    "\n",
    "    train_preds = ridge.predict(x_train09)\n",
    "    test_preds = ridge.predict(x_test09)\n",
    "    probs = ridge.predict_proba(x_test09)\n",
    "\n",
    "    logit_ridge_train_ls.append(1-accuracy_score(y_train09, train_preds))\n",
    "    logit_ridge_test_ls.append(1-accuracy_score(y_test09, test_preds))\n",
    "    logit_ridge_auc.append(roc_auc_score(y_test09, probs[:,1]))\n",
    "    \n",
    "    ridge_coefs.append(ridge.coef_)\n",
    "\n",
    "    ### Logistic Lasso CV (L1 Penalty)\n",
    "\n",
    "    lasso = LogisticRegression(penalty = 'l1', solver = 'saga', n_jobs = -1, class_weight = 'balanced')\n",
    "\n",
    "    lassoCV = GridSearchCV(lasso, param_grid_logit, cv = 10, n_jobs = -1)\n",
    "\n",
    "    t_start = timeit.default_timer()\n",
    "    lassoCV.fit(x_train09, y_train09)\n",
    "    t_end = timeit.default_timer()\n",
    "\n",
    "    logit_lasso_cv_time.append(t_end-t_start)\n",
    "\n",
    "    lasso = lassoCV.best_estimator_\n",
    "\n",
    "    t_start = timeit.default_timer()\n",
    "    lasso.fit(x_train09, y_train09,sample_weight=sample_weights)\n",
    "    t_end = timeit.default_timer()\n",
    "\n",
    "    logit_lasso_time.append(t_end-t_start)\n",
    "\n",
    "    train_preds = lasso.predict(x_train09)\n",
    "    test_preds = lasso.predict(x_test09)\n",
    "    probs = lasso.predict_proba(x_test09)\n",
    "\n",
    "    logit_lasso_train_ls.append(1-accuracy_score(y_train09, train_preds))\n",
    "    logit_lasso_test_ls.append(1-accuracy_score(y_test09, test_preds))\n",
    "    logit_lasso_auc.append(roc_auc_score(y_test09, probs[:,1]))\n",
    "    \n",
    "    lasso_coefs.append(lasso.coef_)\n",
    "\n",
    "    ### Random Forest\n",
    "\n",
    "    rf = RandomForestClassifier(n_estimators = 500, n_jobs = -1, class_weight = 'balanced')\n",
    "\n",
    "    t_start = timeit.default_timer()\n",
    "    rf.fit(x_train09, y_train09,sample_weight=sample_weights)\n",
    "    t_end = timeit.default_timer()\n",
    "\n",
    "    rf_time.append(t_end-t_start)\n",
    "\n",
    "    train_preds = rf.predict(x_train09)\n",
    "    test_preds = rf.predict(x_test09)\n",
    "    probs = rf.predict_proba(x_test09)\n",
    "\n",
    "    rf_train_ls.append(1-accuracy_score(y_train09, train_preds))\n",
    "    rf_test_ls.append(1-accuracy_score(y_test09, test_preds))\n",
    "    rf_auc.append(roc_auc_score(y_test09, probs[:,1]))\n",
    "\n",
    "    ### SVM Radial Kernel\n",
    "\n",
    "    svm = SVC(kernel='rbf', probability=False, class_weight = 'balanced')\n",
    "\n",
    "    svmCV = GridSearchCV(svm, param_grid = svm_param_grid, n_jobs = -1, cv = 10)\n",
    "\n",
    "    t_start = timeit.default_timer()\n",
    "    svmCV.fit(x_train09, y_train09)\n",
    "    t_end = timeit.default_timer()\n",
    "\n",
    "    svm_cv_time.append(t_end-t_start)\n",
    "\n",
    "    svm = svmCV.best_estimator_\n",
    "\n",
    "    t_start = timeit.default_timer()\n",
    "    svm.fit(x_train09,y_train09,sample_weight = sample_weights)\n",
    "    t_end = timeit.default_timer()\n",
    "\n",
    "    svm_time.append(t_end-t_start)\n",
    "\n",
    "    train_preds = svm.predict(x_train09)\n",
    "    test_preds = svm.predict(x_test09)\n",
    "    # probs = svm.predict_proba(x_test09)\n",
    "\n",
    "    svm_train_ls.append(1-accuracy_score(y_train09,train_preds))\n",
    "    svm_test_ls.append(1-accuracy_score(y_test09,test_preds))\n",
    "    # svm_auc.append(roc_auc_score(y_test09, probs[:,1]))\n",
    "\n",
    "    loop_end = timeit.default_timer()\n",
    "    \n",
    "    print(f'loop time is:{loop_end-loop_start}')"
   ]
  },
  {
   "cell_type": "markdown",
   "metadata": {},
   "source": [
    "## Model Fitting for N-learn = 0.5"
   ]
  },
  {
   "cell_type": "code",
   "execution_count": 69,
   "metadata": {},
   "outputs": [],
   "source": [
    "### Data capture lists: Train/Test Errors, Execution Time, Coefficients\n",
    "\n",
    "logit_train_ls05 = []\n",
    "logit_test_ls05 = []\n",
    "logit_auc05 = []\n",
    "\n",
    "\n",
    "logit_ridge_train_ls05 = []\n",
    "logit_ridge_test_ls05 = []\n",
    "logit_ridge_auc05 = []\n",
    "\n",
    "logit_lasso_train_ls05 = []\n",
    "logit_lasso_test_ls05 = []\n",
    "logit_lasso_auc05 = []\n",
    "\n",
    "rf_train_ls05 = []\n",
    "rf_test_ls05 = []\n",
    "rf_auc05 = []\n",
    "\n",
    "svm_train_ls05 = []\n",
    "svm_test_ls05 = []\n",
    "svm_auc05 = []\n",
    "\n",
    "logit_time05 = []\n",
    "logit_ridge_time05 = []\n",
    "logit_lasso_time05 = []\n",
    "svm_time05 = []\n",
    "rf_time05 = []\n",
    "\n",
    "logit_ridge_cv_time05 = []\n",
    "logit_lasso_cv_time05 = []\n",
    "svm_cv_time05 = []\n",
    "\n",
    "logit_coefs05 = []\n",
    "lasso_coefs05 = []\n",
    "ridge_coefs05 = []"
   ]
  },
  {
   "cell_type": "code",
   "execution_count": 70,
   "metadata": {},
   "outputs": [
    {
     "name": "stderr",
     "output_type": "stream",
     "text": [
      "/Users/mdrozdov/anaconda3/lib/python3.7/site-packages/sklearn/linear_model/_sag.py:330: ConvergenceWarning:\n",
      "\n",
      "The max_iter was reached which means the coef_ did not converge\n",
      "\n",
      "/Users/mdrozdov/anaconda3/lib/python3.7/site-packages/sklearn/linear_model/_sag.py:330: ConvergenceWarning:\n",
      "\n",
      "The max_iter was reached which means the coef_ did not converge\n",
      "\n"
     ]
    },
    {
     "name": "stdout",
     "output_type": "stream",
     "text": [
      "loop time is:42.77906733999998\n"
     ]
    }
   ],
   "source": [
    "### Parameter Grids for Logit & SVM GridSearch\n",
    "\n",
    "svm_param_grid = {'C':np.linspace(10**-2, 10**2, 5),\n",
    "                  'gamma':np.linspace(10**-2, 10**2, 5)}\n",
    "\n",
    "param_grid_logit = {'C':np.linspace(1e-4,1,25)}\n",
    "\n",
    "\n",
    "for _ in range(10):\n",
    "    loop_start = timeit.default_timer()\n",
    "    ### Data Split\n",
    "\n",
    "    x_train05, x_test05, y_train05, y_test05 = train_test_split(X,Y, test_size = 0.5, stratify = Y)\n",
    "\n",
    "    ### Preprocessing -- Imputation & Scaling\n",
    "\n",
    "    imputer = SimpleImputer().fit(x_train05)\n",
    "    x_train05 = imputer.transform(x_train05)\n",
    "    x_test05 = imputer.transform(x_test05)\n",
    "\n",
    "    scaler = StandardScaler().fit(x_train05)\n",
    "    x_train05 = scaler.transform(x_train05)\n",
    "    x_test05 = scaler.transform(x_test05)\n",
    "\n",
    "    ### Sample Weights\n",
    "\n",
    "    sample_weights = compute_sample_weight('balanced',y_train05)\n",
    "\n",
    "\n",
    "    ### Logistic Regression\n",
    "\n",
    "    logit = LogisticRegression(penalty = 'none', class_weight = 'balanced',n_jobs=-1,\n",
    "                               solver = 'lbfgs')\n",
    "\n",
    "    t_start = timeit.default_timer()\n",
    "    logit.fit(x_train05,y_train05,sample_weight=sample_weights)\n",
    "    t_end = timeit.default_timer()\n",
    "\n",
    "    logit_time05.append(t_end-t_start)\n",
    "    \n",
    "    train_preds = logit.predict(x_train05)\n",
    "    test_preds = logit.predict(x_test05)\n",
    "\n",
    "    logit_train_ls05.append(1-accuracy_score(y_train05,train_preds))\n",
    "    logit_test_ls05.append(1-accuracy_score(y_test05, test_preds))\n",
    "\n",
    "    logit_auc05.append(roc_auc_score(y_test05, test_preds))\n",
    "\n",
    "    logit_coefs05.append(logit.coef_)\n",
    "    \n",
    "    ### Logistic Ridge CV (L2 Penalty)\n",
    "\n",
    "\n",
    "    ridge = LogisticRegression(penalty = 'l2', solver = 'lbfgs', n_jobs = -1, class_weight = 'balanced')\n",
    "\n",
    "    ridgeCV = GridSearchCV(ridge, param_grid_logit, cv = 10, n_jobs = -1)\n",
    "\n",
    "    t_start = timeit.default_timer()\n",
    "    ridgeCV.fit(x_train05, y_train05)\n",
    "    t_end = timeit.default_timer()\n",
    "\n",
    "    logit_ridge_cv_time05.append(t_end-t_start)\n",
    "\n",
    "    ridge = ridgeCV.best_estimator_\n",
    "\n",
    "    t_start = timeit.default_timer()\n",
    "    ridge.fit(x_train05, y_train05,sample_weight=sample_weights)\n",
    "    t_end = timeit.default_timer()\n",
    "\n",
    "    logit_ridge_time05.append(t_end-t_start)\n",
    "\n",
    "    train_preds = ridge.predict(x_train05)\n",
    "    test_preds = ridge.predict(x_test05)\n",
    "    probs = ridge.predict_proba(x_test05)\n",
    "\n",
    "    logit_ridge_train_ls05.append(1-accuracy_score(y_train05, train_preds))\n",
    "    logit_ridge_test_ls05.append(1-accuracy_score(y_test05, test_preds))\n",
    "    logit_ridge_auc05.append(roc_auc_score(y_test05, probs[:,1]))\n",
    "    \n",
    "    ridge_coefs05.append(ridge.coef_)\n",
    "\n",
    "    ### Logistic Lasso CV (L1 Penalty)\n",
    "\n",
    "    lasso = LogisticRegression(penalty = 'l1', solver = 'saga', n_jobs = -1, class_weight = 'balanced')\n",
    "\n",
    "    lassoCV = GridSearchCV(lasso, param_grid_logit, cv = 10, n_jobs = -1)\n",
    "\n",
    "    t_start = timeit.default_timer()\n",
    "    lassoCV.fit(x_train05, y_train05)\n",
    "    t_end = timeit.default_timer()\n",
    "\n",
    "    logit_lasso_cv_time05.append(t_end-t_start)\n",
    "\n",
    "    lasso = lassoCV.best_estimator_\n",
    "\n",
    "    t_start = timeit.default_timer()\n",
    "    lasso.fit(x_train05, y_train05,sample_weight=sample_weights)\n",
    "    t_end = timeit.default_timer()\n",
    "\n",
    "    logit_lasso_time05.append(t_end-t_start)\n",
    "\n",
    "    train_preds = lasso.predict(x_train05)\n",
    "    test_preds = lasso.predict(x_test05)\n",
    "    probs = lasso.predict_proba(x_test05)\n",
    "\n",
    "    logit_lasso_train_ls05.append(1-accuracy_score(y_train05, train_preds))\n",
    "    logit_lasso_test_ls05.append(1-accuracy_score(y_test05, test_preds))\n",
    "    logit_lasso_auc05.append(roc_auc_score(y_test05, probs[:,1]))\n",
    "    \n",
    "    lasso_coefs05.append(lasso.coef_)\n",
    "\n",
    "    ### Random Forest\n",
    "\n",
    "    rf = RandomForestClassifier(n_estimators = 500, n_jobs = -1, class_weight = 'balanced')\n",
    "\n",
    "    t_start = timeit.default_timer()\n",
    "    rf.fit(x_train05, y_train05,sample_weight=sample_weights)\n",
    "    t_end = timeit.default_timer()\n",
    "\n",
    "    rf_time05.append(t_end-t_start)\n",
    "\n",
    "    train_preds = rf.predict(x_train05)\n",
    "    test_preds = rf.predict(x_test05)\n",
    "    probs = rf.predict_proba(x_test05)\n",
    "\n",
    "    rf_train_ls05.append(1-accuracy_score(y_train05, train_preds))\n",
    "    rf_test_ls05.append(1-accuracy_score(y_test05, test_preds))\n",
    "    rf_auc05.append(roc_auc_score(y_test05, probs[:,1]))\n",
    "\n",
    "    ### SVM Radial Kernel\n",
    "\n",
    "    svm = SVC(kernel='rbf', probability=False, class_weight = 'balanced')\n",
    "\n",
    "    svmCV = GridSearchCV(svm, param_grid = svm_param_grid, n_jobs = -1, cv = 10)\n",
    "\n",
    "    t_start = timeit.default_timer()\n",
    "    svmCV.fit(x_train05, y_train05)\n",
    "    t_end = timeit.default_timer()\n",
    "\n",
    "    svm_cv_time05.append(t_end-t_start)\n",
    "\n",
    "    svm = svmCV.best_estimator_\n",
    "\n",
    "    t_start = timeit.default_timer()\n",
    "    svm.fit(x_train05,y_train05,sample_weight = sample_weights)\n",
    "    t_end = timeit.default_timer()\n",
    "\n",
    "    svm_time05.append(t_end-t_start)\n",
    "\n",
    "    train_preds = svm.predict(x_train05)\n",
    "    test_preds = svm.predict(x_test05)\n",
    "    # probs = svm.predict_proba(x_test05)\n",
    "\n",
    "    svm_train_ls05.append(1-accuracy_score(y_train05,train_preds))\n",
    "    svm_test_ls05.append(1-accuracy_score(y_test05,test_preds))\n",
    "    # svm_auc05.append(roc_auc_score(y_test05, probs[:,1]))\n",
    "\n",
    "    loop_end = timeit.default_timer()\n",
    "    \n",
    "    print(f'loop time is:{loop_end-loop_start}')"
   ]
  },
  {
   "cell_type": "markdown",
   "metadata": {},
   "source": [
    "## Cross Validation Experiments/Plots"
   ]
  },
  {
   "cell_type": "code",
   "execution_count": 29,
   "metadata": {
    "colab": {
     "base_uri": "https://localhost:8080/",
     "height": 34
    },
    "colab_type": "code",
    "id": "oVcSUmHyIQ4-",
    "outputId": "4d5f2b88-6ba3-4639-83b8-b78a2845da3c"
   },
   "outputs": [
    {
     "data": {
      "text/plain": [
       "[0.03246753246753242]"
      ]
     },
     "execution_count": 29,
     "metadata": {},
     "output_type": "execute_result"
    }
   ],
   "source": [
    "abs_coefs = [abs(item) for item in lasso.coef_[0].tolist()]\n",
    "cols = transaction_df.drop(['isFraud','TransactionID'],axis=1).columns\n",
    "\n",
    "coefs = sorted(list(zip(abs_coefs,cols)),key = lambda x: x[0],reverse=True)\n",
    "\n",
    "abs_coefs = [item[0] for item in coefs]\n",
    "cols = [item[1] for item in coefs]"
   ]
  },
  {
   "cell_type": "code",
   "execution_count": null,
   "metadata": {
    "colab": {},
    "colab_type": "code",
    "id": "q77j38LwEm6u"
   },
   "outputs": [],
   "source": [
    "layout = go.Layout(\n",
    "autosize=True,\n",
    "title='Lasso Coefficient Importance (Top 20 Magnitude)',\n",
    "yaxis=dict(\n",
    "    autorange=True,\n",
    "    showgrid=True,\n",
    "    zeroline=True,\n",
    "    dtick=0,\n",
    "    gridcolor='rgb(255, 255, 255)',\n",
    "    gridwidth=1,\n",
    "    zerolinecolor='rgb(255, 255, 255)',\n",
    "    zerolinewidth=2,\n",
    "),\n",
    "margin=dict(\n",
    "    l=40,\n",
    "    r=30,\n",
    "    b=80,\n",
    "    t=100,\n",
    "),\n",
    "paper_bgcolor='rgb(243, 243, 243)',\n",
    "plot_bgcolor='rgb(243, 243, 243)',\n",
    "showlegend=False\n",
    ")\n",
    "\n",
    "fig = go.Figure(layout=layout)\n",
    "\n",
    "fig.add_trace(go.Bar(x = cols[:20], y = abs_coefs[:20]))\n",
    "\n",
    "fig.show()"
   ]
  },
  {
   "cell_type": "code",
   "execution_count": null,
   "metadata": {
    "colab": {
     "base_uri": "https://localhost:8080/",
     "height": 1000
    },
    "colab_type": "code",
    "id": "aRPVuDU9-ql9",
    "outputId": "2c6f436b-92ab-4ec7-afed-07f56b456f24"
   },
   "outputs": [],
   "source": [
    "\n",
    "\n",
    "coefs = []\n",
    "for alpha in np.linspace(1e-6,1e+3,100):\n",
    "  ridge = LogisticRegression(penalty = 'l2', solver = 'saga', n_jobs = -1, class_weight = sample_weights, C = alpha)\n",
    "  ridge.fit(x_train09, y_train09,sample_weight=sample_weights)\n",
    "\n",
    "  coefs.append(np.abs(ridge.coef_))\n"
   ]
  },
  {
   "cell_type": "code",
   "execution_count": null,
   "metadata": {
    "colab": {},
    "colab_type": "code",
    "id": "chckIc_sJ8E_"
   },
   "outputs": [],
   "source": [
    "betas = [array.reshape(-1,).tolist() for array in coefs]\n",
    "betas = list(zip(*betas))"
   ]
  },
  {
   "cell_type": "code",
   "execution_count": null,
   "metadata": {
    "colab": {},
    "colab_type": "code",
    "id": "ahEufJVyMzmD"
   },
   "outputs": [],
   "source": [
    "betas = [list(beta) for beta in betas]"
   ]
  },
  {
   "cell_type": "code",
   "execution_count": null,
   "metadata": {
    "colab": {
     "base_uri": "https://localhost:8080/",
     "height": 34
    },
    "colab_type": "code",
    "id": "wq5lScK-Sjgs",
    "outputId": "106016de-466e-4998-b95c-aa49aedfc95a"
   },
   "outputs": [],
   "source": [
    "len(betas)"
   ]
  },
  {
   "cell_type": "code",
   "execution_count": null,
   "metadata": {
    "colab": {
     "base_uri": "https://localhost:8080/",
     "height": 542
    },
    "colab_type": "code",
    "id": "ytqAwMeQJSOv",
    "outputId": "f724e0cb-6c54-44a7-c338-6e68e68b9c0c"
   },
   "outputs": [],
   "source": [
    "\n",
    "traces = []\n",
    "\n",
    "for beta in betas:\n",
    "  traces.append(go.Scatter(x = np.linspace(1e-6,1e+3,100).tolist(),\n",
    "                            y = beta,\n",
    "                            mode = 'lines'))\n",
    "\n",
    "layout = go.Layout(\n",
    "autosize=True,\n",
    "title='Feature Coefficients for Varying Lambda in Lasso',\n",
    "yaxis=dict(\n",
    "    autorange=True,\n",
    "    showgrid=True,\n",
    "    zeroline=True,\n",
    "    dtick=0,\n",
    "    gridcolor='rgb(255, 255, 255)',\n",
    "    gridwidth=1,\n",
    "    zerolinecolor='rgb(255, 255, 255)',\n",
    "    zerolinewidth=2,\n",
    "),\n",
    "margin=dict(\n",
    "    l=40,\n",
    "    r=30,\n",
    "    b=80,\n",
    "    t=100,\n",
    "),\n",
    "paper_bgcolor='rgb(243, 243, 243)',\n",
    "plot_bgcolor='rgb(243, 243, 243)',\n",
    "showlegend=False\n",
    ")\n",
    "\n",
    "fig = go.Figure(data=traces,layout=layout)\n",
    "\n",
    "fig.show()"
   ]
  },
  {
   "cell_type": "code",
   "execution_count": null,
   "metadata": {
    "colab": {},
    "colab_type": "code",
    "id": "QCt8rRwQRRqO"
   },
   "outputs": [],
   "source": []
  }
 ],
 "metadata": {
  "accelerator": "GPU",
  "colab": {
   "machine_shape": "hm",
   "name": "fraud_detection.ipynb",
   "provenance": []
  },
  "kernelspec": {
   "display_name": "Python 3",
   "language": "python",
   "name": "python3"
  },
  "language_info": {
   "codemirror_mode": {
    "name": "ipython",
    "version": 3
   },
   "file_extension": ".py",
   "mimetype": "text/x-python",
   "name": "python",
   "nbconvert_exporter": "python",
   "pygments_lexer": "ipython3",
   "version": "3.7.3"
  }
 },
 "nbformat": 4,
 "nbformat_minor": 2
}
