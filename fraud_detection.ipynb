{
  "nbformat": 4,
  "nbformat_minor": 0,
  "metadata": {
    "kernelspec": {
      "name": "python3",
      "display_name": "Python 3"
    },
    "language_info": {
      "codemirror_mode": {
        "name": "ipython",
        "version": 3
      },
      "file_extension": ".py",
      "mimetype": "text/x-python",
      "name": "python",
      "nbconvert_exporter": "python",
      "pygments_lexer": "ipython3",
      "version": "3.7.3"
    },
    "colab": {
      "name": "fraud_detection.ipynb",
      "provenance": [],
      "machine_shape": "hm"
    },
    "accelerator": "GPU"
  },
  "cells": [
    {
      "cell_type": "code",
      "metadata": {
        "id": "N3ocdz4ASe_r",
        "colab_type": "code",
        "colab": {}
      },
      "source": [
        "import timeit\n",
        "import pandas as pd\n",
        "import numpy as np\n",
        "from sklearn.impute import SimpleImputer\n",
        "from sklearn.preprocessing import StandardScaler\n",
        "from sklearn.utils.class_weight import compute_sample_weight\n",
        "from sklearn.metrics import roc_auc_score, accuracy_score\n",
        "from sklearn.model_selection import train_test_split, GridSearchCV, \\\n",
        "                                    cross_val_score\n",
        "from sklearn.linear_model.logistic import LogisticRegression\n",
        "from sklearn.ensemble import RandomForestClassifier\n",
        "from sklearn.svm import SVC\n",
        "import plotly.tools as pt\n",
        "import plotly.io as pio\n",
        "import chart_studio as cs\n",
        "import plotly.graph_objs as go\n",
        "import seaborn as sns\n",
        "sns.set('paper')"
      ],
      "execution_count": 0,
      "outputs": []
    },
    {
      "cell_type": "code",
      "metadata": {
        "id": "yCDFPP3WS-GC",
        "colab_type": "code",
        "colab": {
          "base_uri": "https://localhost:8080/",
          "height": 124
        },
        "outputId": "601ad863-7cfa-48ef-9cee-1c7b22f9d829"
      },
      "source": [
        "from google.colab import drive\n",
        "drive.mount('/content/gdrive')"
      ],
      "execution_count": 7,
      "outputs": [
        {
          "output_type": "stream",
          "text": [
            "Go to this URL in a browser: https://accounts.google.com/o/oauth2/auth?client_id=947318989803-6bn6qk8qdgf4n4g3pfee6491hc0brc4i.apps.googleusercontent.com&redirect_uri=urn%3aietf%3awg%3aoauth%3a2.0%3aoob&response_type=code&scope=email%20https%3a%2f%2fwww.googleapis.com%2fauth%2fdocs.test%20https%3a%2f%2fwww.googleapis.com%2fauth%2fdrive%20https%3a%2f%2fwww.googleapis.com%2fauth%2fdrive.photos.readonly%20https%3a%2f%2fwww.googleapis.com%2fauth%2fpeopleapi.readonly\n",
            "\n",
            "Enter your authorization code:\n",
            "··········\n",
            "Mounted at /content/gdrive\n"
          ],
          "name": "stdout"
        }
      ]
    },
    {
      "cell_type": "code",
      "metadata": {
        "id": "ceTSU1fFXRfE",
        "colab_type": "code",
        "colab": {}
      },
      "source": [
        "transaction_df = pd.read_csv('gdrive/My Drive/ieee-fraud-detection/train_transaction.csv')"
      ],
      "execution_count": 0,
      "outputs": []
    },
    {
      "cell_type": "code",
      "metadata": {
        "id": "6pyeJPGLYMAd",
        "colab_type": "code",
        "colab": {
          "base_uri": "https://localhost:8080/",
          "height": 34
        },
        "outputId": "1c417e0f-ad7d-418b-e8d8-b750526c5043"
      },
      "source": [
        "transaction_df.shape"
      ],
      "execution_count": 91,
      "outputs": [
        {
          "output_type": "execute_result",
          "data": {
            "text/plain": [
              "(590540, 394)"
            ]
          },
          "metadata": {
            "tags": []
          },
          "execution_count": 91
        }
      ]
    },
    {
      "cell_type": "code",
      "metadata": {
        "id": "jcHzJw3Xm1tJ",
        "colab_type": "code",
        "colab": {}
      },
      "source": [
        "cat_cols = []\n",
        "for column in transaction_df.columns:\n",
        "  if (transaction_df[column].dtype == np.dtype('O')) or \\\n",
        "  transaction_df[column].value_counts().keys().shape[0] <= 2:\n",
        "    cat_cols.append(column)"
      ],
      "execution_count": 0,
      "outputs": []
    },
    {
      "cell_type": "code",
      "metadata": {
        "id": "G18oGSFYeXYe",
        "colab_type": "code",
        "colab": {}
      },
      "source": [
        "dummies = pd.get_dummies(transaction_df[cat_cols].astype('category'),drop_first=True,dummy_na=True).astype('category')"
      ],
      "execution_count": 0,
      "outputs": []
    },
    {
      "cell_type": "code",
      "metadata": {
        "id": "Pe9G2XKprMu7",
        "colab_type": "code",
        "colab": {}
      },
      "source": [
        "transaction_df = pd.concat([transaction_df.drop(cat_cols,axis=1), dummies],axis=1)"
      ],
      "execution_count": 0,
      "outputs": []
    },
    {
      "cell_type": "code",
      "metadata": {
        "id": "d8UAJsfMY7y_",
        "colab_type": "code",
        "colab": {}
      },
      "source": [
        "null_cols = []\n",
        "for column in transaction_df.columns:\n",
        "  if transaction_df[column].value_counts().keys().shape[0] == 1:\n",
        "    null_cols.append(column)"
      ],
      "execution_count": 0,
      "outputs": []
    },
    {
      "cell_type": "code",
      "metadata": {
        "id": "dQ34r9FuhogH",
        "colab_type": "code",
        "colab": {}
      },
      "source": [
        "transaction_df = transaction_df.drop(null_cols,axis=1)"
      ],
      "execution_count": 0,
      "outputs": []
    },
    {
      "cell_type": "code",
      "metadata": {
        "id": "-eJ7SFZfh1Br",
        "colab_type": "code",
        "colab": {}
      },
      "source": [
        "transaction_df = transaction_df.rename(columns={'isFraud_1.0':'isFraud'})"
      ],
      "execution_count": 0,
      "outputs": []
    },
    {
      "cell_type": "code",
      "metadata": {
        "id": "8B0DBAaZoqL0",
        "colab_type": "code",
        "colab": {}
      },
      "source": [
        "card1 = transaction_df.card1.astype('category')"
      ],
      "execution_count": 0,
      "outputs": []
    },
    {
      "cell_type": "code",
      "metadata": {
        "id": "X59vNbqqkPzt",
        "colab_type": "code",
        "colab": {}
      },
      "source": [
        "transaction_df = pd.concat([transaction_df.drop('card1',axis=1),card1],axis=1)"
      ],
      "execution_count": 0,
      "outputs": []
    },
    {
      "cell_type": "code",
      "metadata": {
        "id": "0L0z5Zk8olGa",
        "colab_type": "code",
        "colab": {}
      },
      "source": [
        "data_types = [transaction_df[column].dtype for column in transaction_df.columns]"
      ],
      "execution_count": 0,
      "outputs": []
    },
    {
      "cell_type": "code",
      "metadata": {
        "id": "2ViDRq0Eo6Km",
        "colab_type": "code",
        "colab": {}
      },
      "source": [
        "data_types.reverse()"
      ],
      "execution_count": 0,
      "outputs": []
    },
    {
      "cell_type": "code",
      "metadata": {
        "id": "KRuTBtahpgF6",
        "colab_type": "code",
        "colab": {}
      },
      "source": [
        "cat_start_idx = len(data_types) - data_types.index(np.dtype('float64'))"
      ],
      "execution_count": 0,
      "outputs": []
    },
    {
      "cell_type": "code",
      "metadata": {
        "id": "XXvoI7p0nXEP",
        "colab_type": "code",
        "colab": {}
      },
      "source": [
        "remove_n = 580000\n",
        "drop_indices = np.random.choice(transaction_df.index,remove_n,replace=False)\n",
        "transaction_df = transaction_df.drop(drop_indices)"
      ],
      "execution_count": 0,
      "outputs": []
    },
    {
      "cell_type": "code",
      "metadata": {
        "id": "U8HKZMucTCdU",
        "colab_type": "code",
        "colab": {
          "base_uri": "https://localhost:8080/",
          "height": 34
        },
        "outputId": "8026186c-3eca-4718-80b3-f6e79fd27136"
      },
      "source": [
        "transaction_df.shape"
      ],
      "execution_count": 203,
      "outputs": [
        {
          "output_type": "execute_result",
          "data": {
            "text/plain": [
              "(10540, 537)"
            ]
          },
          "metadata": {
            "tags": []
          },
          "execution_count": 203
        }
      ]
    },
    {
      "cell_type": "markdown",
      "metadata": {
        "id": "slbuNtj3ARbo",
        "colab_type": "text"
      },
      "source": [
        "Number of NAN per variable barplot"
      ]
    },
    {
      "cell_type": "code",
      "metadata": {
        "id": "EvwCMkk3YrJi",
        "colab_type": "code",
        "colab": {
          "base_uri": "https://localhost:8080/",
          "height": 542
        },
        "outputId": "67fb3912-e51e-469e-8b84-9c0970bef60c"
      },
      "source": [
        "features = transaction_df.isna().sum().keys()\n",
        "missing = transaction_df.isna().sum().values\n",
        "\n",
        "fig = go.Figure([go.Bar(x=features, y = missing)])\n",
        "fig.show()"
      ],
      "execution_count": 9,
      "outputs": [
        {
          "output_type": "display_data",
          "data": {
            "text/html": [
              "<html>\n",
              "<head><meta charset=\"utf-8\" /></head>\n",
              "<body>\n",
              "    <div>\n",
              "            <script src=\"https://cdnjs.cloudflare.com/ajax/libs/mathjax/2.7.5/MathJax.js?config=TeX-AMS-MML_SVG\"></script><script type=\"text/javascript\">if (window.MathJax) {MathJax.Hub.Config({SVG: {font: \"STIX-Web\"}});}</script>\n",
              "                <script type=\"text/javascript\">window.PlotlyConfig = {MathJaxConfig: 'local'};</script>\n",
              "        <script src=\"https://cdn.plot.ly/plotly-latest.min.js\"></script>    \n",
              "            <div id=\"45ffd138-066b-4ff6-ae01-67b2e8f947fa\" class=\"plotly-graph-div\" style=\"height:525px; width:100%;\"></div>\n",
              "            <script type=\"text/javascript\">\n",
              "                \n",
              "                    window.PLOTLYENV=window.PLOTLYENV || {};\n",
              "                    \n",
              "                if (document.getElementById(\"45ffd138-066b-4ff6-ae01-67b2e8f947fa\")) {\n",
              "                    Plotly.newPlot(\n",
              "                        '45ffd138-066b-4ff6-ae01-67b2e8f947fa',\n",
              "                        [{\"type\": \"bar\", \"x\": [\"TransactionID\", \"isFraud\", \"TransactionDT\", \"TransactionAmt\", \"card1\", \"card2\", \"card3\", \"card5\", \"addr1\", \"addr2\", \"dist1\", \"dist2\", \"C1\", \"C2\", \"C3\", \"C4\", \"C5\", \"C6\", \"C7\", \"C8\", \"C9\", \"C10\", \"C11\", \"C12\", \"C13\", \"C14\", \"D1\", \"D2\", \"D3\", \"D4\", \"D5\", \"D6\", \"D7\", \"D8\", \"D9\", \"D10\", \"D11\", \"D12\", \"D13\", \"D14\", \"D15\", \"V1\", \"V2\", \"V3\", \"V4\", \"V5\", \"V6\", \"V7\", \"V8\", \"V9\", \"V10\", \"V11\", \"V12\", \"V13\", \"V14\", \"V15\", \"V16\", \"V17\", \"V18\", \"V19\", \"V20\", \"V21\", \"V22\", \"V23\", \"V24\", \"V25\", \"V26\", \"V27\", \"V28\", \"V29\", \"V30\", \"V31\", \"V32\", \"V33\", \"V34\", \"V35\", \"V36\", \"V37\", \"V38\", \"V39\", \"V40\", \"V41\", \"V42\", \"V43\", \"V44\", \"V45\", \"V46\", \"V47\", \"V48\", \"V49\", \"V50\", \"V51\", \"V52\", \"V53\", \"V54\", \"V55\", \"V56\", \"V57\", \"V58\", \"V59\", \"V60\", \"V61\", \"V62\", \"V63\", \"V64\", \"V65\", \"V66\", \"V67\", \"V68\", \"V69\", \"V70\", \"V71\", \"V72\", \"V73\", \"V74\", \"V75\", \"V76\", \"V77\", \"V78\", \"V79\", \"V80\", \"V81\", \"V82\", \"V83\", \"V84\", \"V85\", \"V86\", \"V87\", \"V88\", \"V89\", \"V90\", \"V91\", \"V92\", \"V93\", \"V94\", \"V95\", \"V96\", \"V97\", \"V98\", \"V99\", \"V100\", \"V101\", \"V102\", \"V103\", \"V104\", \"V105\", \"V106\", \"V107\", \"V108\", \"V109\", \"V110\", \"V111\", \"V112\", \"V113\", \"V114\", \"V115\", \"V116\", \"V117\", \"V118\", \"V119\", \"V120\", \"V121\", \"V122\", \"V123\", \"V124\", \"V125\", \"V126\", \"V127\", \"V128\", \"V129\", \"V130\", \"V131\", \"V132\", \"V133\", \"V134\", \"V135\", \"V136\", \"V137\", \"V138\", \"V139\", \"V140\", \"V141\", \"V142\", \"V143\", \"V144\", \"V145\", \"V146\", \"V147\", \"V148\", \"V149\", \"V150\", \"V151\", \"V152\", \"V153\", \"V154\", \"V155\", \"V156\", \"V157\", \"V158\", \"V159\", \"V160\", \"V161\", \"V162\", \"V163\", \"V164\", \"V165\", \"V166\", \"V167\", \"V168\", \"V169\", \"V170\", \"V171\", \"V172\", \"V173\", \"V174\", \"V175\", \"V176\", \"V177\", \"V178\", \"V179\", \"V180\", \"V181\", \"V182\", \"V183\", \"V184\", \"V185\", \"V186\", \"V187\", \"V188\", \"V189\", \"V190\", \"V191\", \"V192\", \"V193\", \"V194\", \"V195\", \"V196\", \"V197\", \"V198\", \"V199\", \"V200\", \"V201\", \"V202\", \"V203\", \"V204\", \"V205\", \"V206\", \"V207\", \"V208\", \"V209\", \"V210\", \"V211\", \"V212\", \"V213\", \"V214\", \"V215\", \"V216\", \"V217\", \"V218\", \"V219\", \"V220\", \"V221\", \"V222\", \"V223\", \"V224\", \"V225\", \"V226\", \"V227\", \"V228\", \"V229\", \"V230\", \"V231\", \"V232\", \"V233\", \"V234\", \"V235\", \"V236\", \"V237\", \"V238\", \"V239\", \"V240\", \"V241\", \"V242\", \"V243\", \"V244\", \"V245\", \"V246\", \"V247\", \"V248\", \"V249\", \"V250\", \"V251\", \"V252\", \"V253\", \"V254\", \"V255\", \"V256\", \"V257\", \"V258\", \"V259\", \"V260\", \"V261\", \"V262\", \"V263\", \"V264\", \"V265\", \"V266\", \"V267\", \"V268\", \"V269\", \"V270\", \"V271\", \"V272\", \"V273\", \"V274\", \"V275\", \"V276\", \"V277\", \"V278\", \"V279\", \"V280\", \"V281\", \"V282\", \"V283\", \"V284\", \"V285\", \"V286\", \"V287\", \"V288\", \"V289\", \"V290\", \"V291\", \"V292\", \"V293\", \"V294\", \"V295\", \"V296\", \"V297\", \"V298\", \"V299\", \"V300\", \"V301\", \"V302\", \"V303\", \"V304\", \"V305\", \"V306\", \"V307\", \"V308\", \"V309\", \"V310\", \"V311\", \"V312\", \"V313\", \"V314\", \"V315\", \"V316\", \"V317\", \"V318\", \"V319\", \"V320\", \"V321\", \"V322\", \"V323\", \"V324\", \"V325\", \"V326\", \"V327\", \"V328\", \"V329\", \"V330\", \"V331\", \"V332\", \"V333\", \"V334\", \"V335\", \"V336\", \"V337\", \"V338\", \"V339\", \"ProductCD_H\", \"ProductCD_R\", \"ProductCD_S\", \"ProductCD_W\", \"ProductCD_nan\", \"card4_discover\", \"card4_mastercard\", \"card4_visa\", \"card4_nan\", \"card6_credit\", \"card6_debit\", \"card6_debit or credit\", \"card6_nan\", \"P_emaildomain_anonymous.com\", \"P_emaildomain_aol.com\", \"P_emaildomain_att.net\", \"P_emaildomain_bellsouth.net\", \"P_emaildomain_cableone.net\", \"P_emaildomain_centurylink.net\", \"P_emaildomain_cfl.rr.com\", \"P_emaildomain_charter.net\", \"P_emaildomain_comcast.net\", \"P_emaildomain_cox.net\", \"P_emaildomain_earthlink.net\", \"P_emaildomain_embarqmail.com\", \"P_emaildomain_frontier.com\", \"P_emaildomain_frontiernet.net\", \"P_emaildomain_gmail\", \"P_emaildomain_gmail.com\", \"P_emaildomain_gmx.de\", \"P_emaildomain_hotmail.co.uk\", \"P_emaildomain_hotmail.com\", \"P_emaildomain_hotmail.de\", \"P_emaildomain_hotmail.es\", \"P_emaildomain_hotmail.fr\", \"P_emaildomain_icloud.com\", \"P_emaildomain_juno.com\", \"P_emaildomain_live.com\", \"P_emaildomain_live.com.mx\", \"P_emaildomain_live.fr\", \"P_emaildomain_mac.com\", \"P_emaildomain_mail.com\", \"P_emaildomain_me.com\", \"P_emaildomain_msn.com\", \"P_emaildomain_netzero.com\", \"P_emaildomain_netzero.net\", \"P_emaildomain_optonline.net\", \"P_emaildomain_outlook.com\", \"P_emaildomain_outlook.es\", \"P_emaildomain_prodigy.net.mx\", \"P_emaildomain_protonmail.com\", \"P_emaildomain_ptd.net\", \"P_emaildomain_q.com\", \"P_emaildomain_roadrunner.com\", \"P_emaildomain_rocketmail.com\", \"P_emaildomain_sbcglobal.net\", \"P_emaildomain_sc.rr.com\", \"P_emaildomain_servicios-ta.com\", \"P_emaildomain_suddenlink.net\", \"P_emaildomain_twc.com\", \"P_emaildomain_verizon.net\", \"P_emaildomain_web.de\", \"P_emaildomain_windstream.net\", \"P_emaildomain_yahoo.co.jp\", \"P_emaildomain_yahoo.co.uk\", \"P_emaildomain_yahoo.com\", \"P_emaildomain_yahoo.com.mx\", \"P_emaildomain_yahoo.de\", \"P_emaildomain_yahoo.es\", \"P_emaildomain_yahoo.fr\", \"P_emaildomain_ymail.com\", \"P_emaildomain_nan\", \"R_emaildomain_anonymous.com\", \"R_emaildomain_aol.com\", \"R_emaildomain_att.net\", \"R_emaildomain_bellsouth.net\", \"R_emaildomain_cableone.net\", \"R_emaildomain_centurylink.net\", \"R_emaildomain_cfl.rr.com\", \"R_emaildomain_charter.net\", \"R_emaildomain_comcast.net\", \"R_emaildomain_cox.net\", \"R_emaildomain_earthlink.net\", \"R_emaildomain_embarqmail.com\", \"R_emaildomain_frontier.com\", \"R_emaildomain_frontiernet.net\", \"R_emaildomain_gmail\", \"R_emaildomain_gmail.com\", \"R_emaildomain_gmx.de\", \"R_emaildomain_hotmail.co.uk\", \"R_emaildomain_hotmail.com\", \"R_emaildomain_hotmail.de\", \"R_emaildomain_hotmail.es\", \"R_emaildomain_hotmail.fr\", \"R_emaildomain_icloud.com\", \"R_emaildomain_juno.com\", \"R_emaildomain_live.com\", \"R_emaildomain_live.com.mx\", \"R_emaildomain_live.fr\", \"R_emaildomain_mac.com\", \"R_emaildomain_mail.com\", \"R_emaildomain_me.com\", \"R_emaildomain_msn.com\", \"R_emaildomain_netzero.com\", \"R_emaildomain_netzero.net\", \"R_emaildomain_optonline.net\", \"R_emaildomain_outlook.com\", \"R_emaildomain_outlook.es\", \"R_emaildomain_prodigy.net.mx\", \"R_emaildomain_protonmail.com\", \"R_emaildomain_ptd.net\", \"R_emaildomain_q.com\", \"R_emaildomain_roadrunner.com\", \"R_emaildomain_rocketmail.com\", \"R_emaildomain_sbcglobal.net\", \"R_emaildomain_sc.rr.com\", \"R_emaildomain_scranton.edu\", \"R_emaildomain_servicios-ta.com\", \"R_emaildomain_suddenlink.net\", \"R_emaildomain_twc.com\", \"R_emaildomain_verizon.net\", \"R_emaildomain_web.de\", \"R_emaildomain_windstream.net\", \"R_emaildomain_yahoo.co.jp\", \"R_emaildomain_yahoo.co.uk\", \"R_emaildomain_yahoo.com\", \"R_emaildomain_yahoo.com.mx\", \"R_emaildomain_yahoo.de\", \"R_emaildomain_yahoo.es\", \"R_emaildomain_yahoo.fr\", \"R_emaildomain_ymail.com\", \"R_emaildomain_nan\", \"M1_T\", \"M1_nan\", \"M2_T\", \"M2_nan\", \"M3_T\", \"M3_nan\", \"M4_M1\", \"M4_M2\", \"M4_nan\", \"M5_T\", \"M5_nan\", \"M6_T\", \"M6_nan\", \"M7_T\", \"M7_nan\", \"M8_T\", \"M8_nan\", \"M9_T\", \"M9_nan\"], \"y\": [0, 0, 0, 0, 0, 8933, 1565, 4259, 65706, 65706, 352271, 552913, 0, 0, 0, 0, 0, 0, 0, 0, 0, 0, 0, 0, 0, 0, 1269, 280797, 262878, 168922, 309841, 517353, 551623, 515614, 515614, 76022, 279287, 525823, 528588, 528353, 89113, 279287, 279287, 279287, 279287, 279287, 279287, 279287, 279287, 279287, 279287, 279287, 76073, 76073, 76073, 76073, 76073, 76073, 76073, 76073, 76073, 76073, 76073, 76073, 76073, 76073, 76073, 76073, 76073, 76073, 76073, 76073, 76073, 76073, 76073, 168969, 168969, 168969, 168969, 168969, 168969, 168969, 168969, 168969, 168969, 168969, 168969, 168969, 168969, 168969, 168969, 168969, 168969, 77096, 77096, 77096, 77096, 77096, 77096, 77096, 77096, 77096, 77096, 77096, 77096, 77096, 77096, 77096, 77096, 77096, 77096, 77096, 77096, 77096, 77096, 89164, 89164, 89164, 89164, 89164, 89164, 89164, 89164, 89164, 89164, 89164, 89164, 89164, 89164, 89164, 89164, 89164, 89164, 89164, 89164, 314, 314, 314, 314, 314, 314, 314, 314, 314, 314, 314, 314, 314, 314, 314, 314, 314, 314, 314, 314, 314, 314, 314, 314, 314, 314, 314, 314, 314, 314, 314, 314, 314, 314, 314, 314, 314, 314, 314, 314, 314, 314, 314, 508595, 508595, 508595, 508595, 508595, 508589, 508589, 508589, 508595, 508595, 508595, 508595, 508589, 508589, 508589, 508595, 508595, 508595, 508595, 508595, 508595, 508589, 508589, 508595, 508595, 508595, 508589, 508589, 508589, 450909, 450909, 450721, 450721, 450721, 450909, 450909, 450721, 450721, 450909, 450909, 450909, 450909, 450721, 450909, 450909, 450909, 450721, 450721, 450909, 450909, 450721, 450721, 450909, 450909, 450909, 450909, 450721, 450721, 450909, 450721, 450721, 450909, 450721, 450721, 450909, 450909, 450909, 450909, 450909, 450909, 450721, 450721, 450721, 450909, 450909, 450909, 450909, 450909, 450909, 460110, 460110, 460110, 449124, 449124, 449124, 460110, 460110, 460110, 460110, 449124, 460110, 460110, 460110, 460110, 460110, 460110, 449124, 460110, 460110, 460110, 449124, 449124, 460110, 460110, 460110, 460110, 460110, 449124, 460110, 460110, 460110, 460110, 449124, 449124, 460110, 460110, 460110, 449124, 449124, 460110, 460110, 449124, 460110, 460110, 460110, 460110, 460110, 460110, 460110, 460110, 460110, 460110, 449124, 449124, 449124, 460110, 460110, 460110, 460110, 460110, 460110, 12, 12, 1269, 1269, 1269, 12, 12, 12, 12, 1269, 1269, 12, 12, 12, 12, 12, 12, 1269, 12, 12, 12, 1269, 1269, 12, 12, 12, 12, 12, 12, 12, 12, 12, 12, 12, 1269, 1269, 1269, 12, 12, 12, 12, 12, 12, 508189, 508189, 508189, 508189, 508189, 508189, 508189, 508189, 508189, 508189, 508189, 508189, 508189, 508189, 508189, 508189, 508189, 508189, 0, 0, 0, 0, 0, 0, 0, 0, 0, 0, 0, 0, 0, 0, 0, 0, 0, 0, 0, 0, 0, 0, 0, 0, 0, 0, 0, 0, 0, 0, 0, 0, 0, 0, 0, 0, 0, 0, 0, 0, 0, 0, 0, 0, 0, 0, 0, 0, 0, 0, 0, 0, 0, 0, 0, 0, 0, 0, 0, 0, 0, 0, 0, 0, 0, 0, 0, 0, 0, 0, 0, 0, 0, 0, 0, 0, 0, 0, 0, 0, 0, 0, 0, 0, 0, 0, 0, 0, 0, 0, 0, 0, 0, 0, 0, 0, 0, 0, 0, 0, 0, 0, 0, 0, 0, 0, 0, 0, 0, 0, 0, 0, 0, 0, 0, 0, 0, 0, 0, 0, 0, 0, 0, 0, 0, 0, 0, 0, 0, 0, 0, 0, 0, 0, 0, 0, 0, 0, 0, 0, 0, 0, 0, 0, 0, 0, 0, 0, 0, 0, 0]}],\n",
              "                        {\"template\": {\"data\": {\"bar\": [{\"error_x\": {\"color\": \"#2a3f5f\"}, \"error_y\": {\"color\": \"#2a3f5f\"}, \"marker\": {\"line\": {\"color\": \"#E5ECF6\", \"width\": 0.5}}, \"type\": \"bar\"}], \"barpolar\": [{\"marker\": {\"line\": {\"color\": \"#E5ECF6\", \"width\": 0.5}}, \"type\": \"barpolar\"}], \"carpet\": [{\"aaxis\": {\"endlinecolor\": \"#2a3f5f\", \"gridcolor\": \"white\", \"linecolor\": \"white\", \"minorgridcolor\": \"white\", \"startlinecolor\": \"#2a3f5f\"}, \"baxis\": {\"endlinecolor\": \"#2a3f5f\", \"gridcolor\": \"white\", \"linecolor\": \"white\", \"minorgridcolor\": \"white\", \"startlinecolor\": \"#2a3f5f\"}, \"type\": \"carpet\"}], \"choropleth\": [{\"colorbar\": {\"outlinewidth\": 0, \"ticks\": \"\"}, \"type\": \"choropleth\"}], \"contour\": [{\"colorbar\": {\"outlinewidth\": 0, \"ticks\": \"\"}, \"colorscale\": [[0.0, \"#0d0887\"], [0.1111111111111111, \"#46039f\"], [0.2222222222222222, \"#7201a8\"], [0.3333333333333333, \"#9c179e\"], [0.4444444444444444, \"#bd3786\"], [0.5555555555555556, \"#d8576b\"], [0.6666666666666666, \"#ed7953\"], [0.7777777777777778, \"#fb9f3a\"], [0.8888888888888888, \"#fdca26\"], [1.0, \"#f0f921\"]], \"type\": \"contour\"}], \"contourcarpet\": [{\"colorbar\": {\"outlinewidth\": 0, \"ticks\": \"\"}, \"type\": \"contourcarpet\"}], \"heatmap\": [{\"colorbar\": {\"outlinewidth\": 0, \"ticks\": \"\"}, \"colorscale\": [[0.0, \"#0d0887\"], [0.1111111111111111, \"#46039f\"], [0.2222222222222222, \"#7201a8\"], [0.3333333333333333, \"#9c179e\"], [0.4444444444444444, \"#bd3786\"], [0.5555555555555556, \"#d8576b\"], [0.6666666666666666, \"#ed7953\"], [0.7777777777777778, \"#fb9f3a\"], [0.8888888888888888, \"#fdca26\"], [1.0, \"#f0f921\"]], \"type\": \"heatmap\"}], \"heatmapgl\": [{\"colorbar\": {\"outlinewidth\": 0, \"ticks\": \"\"}, \"colorscale\": [[0.0, \"#0d0887\"], [0.1111111111111111, \"#46039f\"], [0.2222222222222222, \"#7201a8\"], [0.3333333333333333, \"#9c179e\"], [0.4444444444444444, \"#bd3786\"], [0.5555555555555556, \"#d8576b\"], [0.6666666666666666, \"#ed7953\"], [0.7777777777777778, \"#fb9f3a\"], [0.8888888888888888, \"#fdca26\"], [1.0, \"#f0f921\"]], \"type\": \"heatmapgl\"}], \"histogram\": [{\"marker\": {\"colorbar\": {\"outlinewidth\": 0, \"ticks\": \"\"}}, \"type\": \"histogram\"}], \"histogram2d\": [{\"colorbar\": {\"outlinewidth\": 0, \"ticks\": \"\"}, \"colorscale\": [[0.0, \"#0d0887\"], [0.1111111111111111, \"#46039f\"], [0.2222222222222222, \"#7201a8\"], [0.3333333333333333, \"#9c179e\"], [0.4444444444444444, \"#bd3786\"], [0.5555555555555556, \"#d8576b\"], [0.6666666666666666, \"#ed7953\"], [0.7777777777777778, \"#fb9f3a\"], [0.8888888888888888, \"#fdca26\"], [1.0, \"#f0f921\"]], \"type\": \"histogram2d\"}], \"histogram2dcontour\": [{\"colorbar\": {\"outlinewidth\": 0, \"ticks\": \"\"}, \"colorscale\": [[0.0, \"#0d0887\"], [0.1111111111111111, \"#46039f\"], [0.2222222222222222, \"#7201a8\"], [0.3333333333333333, \"#9c179e\"], [0.4444444444444444, \"#bd3786\"], [0.5555555555555556, \"#d8576b\"], [0.6666666666666666, \"#ed7953\"], [0.7777777777777778, \"#fb9f3a\"], [0.8888888888888888, \"#fdca26\"], [1.0, \"#f0f921\"]], \"type\": \"histogram2dcontour\"}], \"mesh3d\": [{\"colorbar\": {\"outlinewidth\": 0, \"ticks\": \"\"}, \"type\": \"mesh3d\"}], \"parcoords\": [{\"line\": {\"colorbar\": {\"outlinewidth\": 0, \"ticks\": \"\"}}, \"type\": \"parcoords\"}], \"scatter\": [{\"marker\": {\"colorbar\": {\"outlinewidth\": 0, \"ticks\": \"\"}}, \"type\": \"scatter\"}], \"scatter3d\": [{\"line\": {\"colorbar\": {\"outlinewidth\": 0, \"ticks\": \"\"}}, \"marker\": {\"colorbar\": {\"outlinewidth\": 0, \"ticks\": \"\"}}, \"type\": \"scatter3d\"}], \"scattercarpet\": [{\"marker\": {\"colorbar\": {\"outlinewidth\": 0, \"ticks\": \"\"}}, \"type\": \"scattercarpet\"}], \"scattergeo\": [{\"marker\": {\"colorbar\": {\"outlinewidth\": 0, \"ticks\": \"\"}}, \"type\": \"scattergeo\"}], \"scattergl\": [{\"marker\": {\"colorbar\": {\"outlinewidth\": 0, \"ticks\": \"\"}}, \"type\": \"scattergl\"}], \"scattermapbox\": [{\"marker\": {\"colorbar\": {\"outlinewidth\": 0, \"ticks\": \"\"}}, \"type\": \"scattermapbox\"}], \"scatterpolar\": [{\"marker\": {\"colorbar\": {\"outlinewidth\": 0, \"ticks\": \"\"}}, \"type\": \"scatterpolar\"}], \"scatterpolargl\": [{\"marker\": {\"colorbar\": {\"outlinewidth\": 0, \"ticks\": \"\"}}, \"type\": \"scatterpolargl\"}], \"scatterternary\": [{\"marker\": {\"colorbar\": {\"outlinewidth\": 0, \"ticks\": \"\"}}, \"type\": \"scatterternary\"}], \"surface\": [{\"colorbar\": {\"outlinewidth\": 0, \"ticks\": \"\"}, \"colorscale\": [[0.0, \"#0d0887\"], [0.1111111111111111, \"#46039f\"], [0.2222222222222222, \"#7201a8\"], [0.3333333333333333, \"#9c179e\"], [0.4444444444444444, \"#bd3786\"], [0.5555555555555556, \"#d8576b\"], [0.6666666666666666, \"#ed7953\"], [0.7777777777777778, \"#fb9f3a\"], [0.8888888888888888, \"#fdca26\"], [1.0, \"#f0f921\"]], \"type\": \"surface\"}], \"table\": [{\"cells\": {\"fill\": {\"color\": \"#EBF0F8\"}, \"line\": {\"color\": \"white\"}}, \"header\": {\"fill\": {\"color\": \"#C8D4E3\"}, \"line\": {\"color\": \"white\"}}, \"type\": \"table\"}]}, \"layout\": {\"annotationdefaults\": {\"arrowcolor\": \"#2a3f5f\", \"arrowhead\": 0, \"arrowwidth\": 1}, \"colorscale\": {\"diverging\": [[0, \"#8e0152\"], [0.1, \"#c51b7d\"], [0.2, \"#de77ae\"], [0.3, \"#f1b6da\"], [0.4, \"#fde0ef\"], [0.5, \"#f7f7f7\"], [0.6, \"#e6f5d0\"], [0.7, \"#b8e186\"], [0.8, \"#7fbc41\"], [0.9, \"#4d9221\"], [1, \"#276419\"]], \"sequential\": [[0.0, \"#0d0887\"], [0.1111111111111111, \"#46039f\"], [0.2222222222222222, \"#7201a8\"], [0.3333333333333333, \"#9c179e\"], [0.4444444444444444, \"#bd3786\"], [0.5555555555555556, \"#d8576b\"], [0.6666666666666666, \"#ed7953\"], [0.7777777777777778, \"#fb9f3a\"], [0.8888888888888888, \"#fdca26\"], [1.0, \"#f0f921\"]], \"sequentialminus\": [[0.0, \"#0d0887\"], [0.1111111111111111, \"#46039f\"], [0.2222222222222222, \"#7201a8\"], [0.3333333333333333, \"#9c179e\"], [0.4444444444444444, \"#bd3786\"], [0.5555555555555556, \"#d8576b\"], [0.6666666666666666, \"#ed7953\"], [0.7777777777777778, \"#fb9f3a\"], [0.8888888888888888, \"#fdca26\"], [1.0, \"#f0f921\"]]}, \"colorway\": [\"#636efa\", \"#EF553B\", \"#00cc96\", \"#ab63fa\", \"#FFA15A\", \"#19d3f3\", \"#FF6692\", \"#B6E880\", \"#FF97FF\", \"#FECB52\"], \"font\": {\"color\": \"#2a3f5f\"}, \"geo\": {\"bgcolor\": \"white\", \"lakecolor\": \"white\", \"landcolor\": \"#E5ECF6\", \"showlakes\": true, \"showland\": true, \"subunitcolor\": \"white\"}, \"hoverlabel\": {\"align\": \"left\"}, \"hovermode\": \"closest\", \"mapbox\": {\"style\": \"light\"}, \"paper_bgcolor\": \"white\", \"plot_bgcolor\": \"#E5ECF6\", \"polar\": {\"angularaxis\": {\"gridcolor\": \"white\", \"linecolor\": \"white\", \"ticks\": \"\"}, \"bgcolor\": \"#E5ECF6\", \"radialaxis\": {\"gridcolor\": \"white\", \"linecolor\": \"white\", \"ticks\": \"\"}}, \"scene\": {\"xaxis\": {\"backgroundcolor\": \"#E5ECF6\", \"gridcolor\": \"white\", \"gridwidth\": 2, \"linecolor\": \"white\", \"showbackground\": true, \"ticks\": \"\", \"zerolinecolor\": \"white\"}, \"yaxis\": {\"backgroundcolor\": \"#E5ECF6\", \"gridcolor\": \"white\", \"gridwidth\": 2, \"linecolor\": \"white\", \"showbackground\": true, \"ticks\": \"\", \"zerolinecolor\": \"white\"}, \"zaxis\": {\"backgroundcolor\": \"#E5ECF6\", \"gridcolor\": \"white\", \"gridwidth\": 2, \"linecolor\": \"white\", \"showbackground\": true, \"ticks\": \"\", \"zerolinecolor\": \"white\"}}, \"shapedefaults\": {\"line\": {\"color\": \"#2a3f5f\"}}, \"ternary\": {\"aaxis\": {\"gridcolor\": \"white\", \"linecolor\": \"white\", \"ticks\": \"\"}, \"baxis\": {\"gridcolor\": \"white\", \"linecolor\": \"white\", \"ticks\": \"\"}, \"bgcolor\": \"#E5ECF6\", \"caxis\": {\"gridcolor\": \"white\", \"linecolor\": \"white\", \"ticks\": \"\"}}, \"title\": {\"x\": 0.05}, \"xaxis\": {\"automargin\": true, \"gridcolor\": \"white\", \"linecolor\": \"white\", \"ticks\": \"\", \"zerolinecolor\": \"white\", \"zerolinewidth\": 2}, \"yaxis\": {\"automargin\": true, \"gridcolor\": \"white\", \"linecolor\": \"white\", \"ticks\": \"\", \"zerolinecolor\": \"white\", \"zerolinewidth\": 2}}}},\n",
              "                        {\"responsive\": true}\n",
              "                    ).then(function(){\n",
              "                            \n",
              "var gd = document.getElementById('45ffd138-066b-4ff6-ae01-67b2e8f947fa');\n",
              "var x = new MutationObserver(function (mutations, observer) {{\n",
              "        var display = window.getComputedStyle(gd).display;\n",
              "        if (!display || display === 'none') {{\n",
              "            console.log([gd, 'removed!']);\n",
              "            Plotly.purge(gd);\n",
              "            observer.disconnect();\n",
              "        }}\n",
              "}});\n",
              "\n",
              "// Listen for the removal of the full notebook cells\n",
              "var notebookContainer = gd.closest('#notebook-container');\n",
              "if (notebookContainer) {{\n",
              "    x.observe(notebookContainer, {childList: true});\n",
              "}}\n",
              "\n",
              "// Listen for the clearing of the current output cell\n",
              "var outputEl = gd.closest('.output');\n",
              "if (outputEl) {{\n",
              "    x.observe(outputEl, {childList: true});\n",
              "}}\n",
              "\n",
              "                        })\n",
              "                };\n",
              "                \n",
              "            </script>\n",
              "        </div>\n",
              "</body>\n",
              "</html>"
            ]
          },
          "metadata": {
            "tags": []
          }
        }
      ]
    },
    {
      "cell_type": "markdown",
      "metadata": {
        "id": "UAFjIhI2Adpa",
        "colab_type": "text"
      },
      "source": [
        "Class balance barplot"
      ]
    },
    {
      "cell_type": "code",
      "metadata": {
        "id": "gxHH7adPYsfO",
        "colab_type": "code",
        "colab": {
          "base_uri": "https://localhost:8080/",
          "height": 542
        },
        "outputId": "36fb1bc7-eb21-4b27-9b93-3c56f695a363"
      },
      "source": [
        "not_fraud_count = transaction_df['isFraud'].value_counts().values[0]\n",
        "fraud_count = transaction_df['isFraud'].value_counts().values[1]\n",
        "\n",
        "fig = go.Figure([go.Bar(x=['Fraud','Not Fraud'], y = [fraud_count/transaction_df.shape[0],\n",
        "                                                      not_fraud_count/transaction_df.shape[0]])])\n",
        "fig.show()"
      ],
      "execution_count": 204,
      "outputs": [
        {
          "output_type": "display_data",
          "data": {
            "text/html": [
              "<html>\n",
              "<head><meta charset=\"utf-8\" /></head>\n",
              "<body>\n",
              "    <div>\n",
              "            <script src=\"https://cdnjs.cloudflare.com/ajax/libs/mathjax/2.7.5/MathJax.js?config=TeX-AMS-MML_SVG\"></script><script type=\"text/javascript\">if (window.MathJax) {MathJax.Hub.Config({SVG: {font: \"STIX-Web\"}});}</script>\n",
              "                <script type=\"text/javascript\">window.PlotlyConfig = {MathJaxConfig: 'local'};</script>\n",
              "        <script src=\"https://cdn.plot.ly/plotly-latest.min.js\"></script>    \n",
              "            <div id=\"c1704ddf-0107-47ec-a6ea-2fd0ce5554b2\" class=\"plotly-graph-div\" style=\"height:525px; width:100%;\"></div>\n",
              "            <script type=\"text/javascript\">\n",
              "                \n",
              "                    window.PLOTLYENV=window.PLOTLYENV || {};\n",
              "                    \n",
              "                if (document.getElementById(\"c1704ddf-0107-47ec-a6ea-2fd0ce5554b2\")) {\n",
              "                    Plotly.newPlot(\n",
              "                        'c1704ddf-0107-47ec-a6ea-2fd0ce5554b2',\n",
              "                        [{\"type\": \"bar\", \"x\": [\"Fraud\", \"Not Fraud\"], \"y\": [0.03529411764705882, 0.9647058823529412]}],\n",
              "                        {\"template\": {\"data\": {\"bar\": [{\"error_x\": {\"color\": \"#2a3f5f\"}, \"error_y\": {\"color\": \"#2a3f5f\"}, \"marker\": {\"line\": {\"color\": \"#E5ECF6\", \"width\": 0.5}}, \"type\": \"bar\"}], \"barpolar\": [{\"marker\": {\"line\": {\"color\": \"#E5ECF6\", \"width\": 0.5}}, \"type\": \"barpolar\"}], \"carpet\": [{\"aaxis\": {\"endlinecolor\": \"#2a3f5f\", \"gridcolor\": \"white\", \"linecolor\": \"white\", \"minorgridcolor\": \"white\", \"startlinecolor\": \"#2a3f5f\"}, \"baxis\": {\"endlinecolor\": \"#2a3f5f\", \"gridcolor\": \"white\", \"linecolor\": \"white\", \"minorgridcolor\": \"white\", \"startlinecolor\": \"#2a3f5f\"}, \"type\": \"carpet\"}], \"choropleth\": [{\"colorbar\": {\"outlinewidth\": 0, \"ticks\": \"\"}, \"type\": \"choropleth\"}], \"contour\": [{\"colorbar\": {\"outlinewidth\": 0, \"ticks\": \"\"}, \"colorscale\": [[0.0, \"#0d0887\"], [0.1111111111111111, \"#46039f\"], [0.2222222222222222, \"#7201a8\"], [0.3333333333333333, \"#9c179e\"], [0.4444444444444444, \"#bd3786\"], [0.5555555555555556, \"#d8576b\"], [0.6666666666666666, \"#ed7953\"], [0.7777777777777778, \"#fb9f3a\"], [0.8888888888888888, \"#fdca26\"], [1.0, \"#f0f921\"]], \"type\": \"contour\"}], \"contourcarpet\": [{\"colorbar\": {\"outlinewidth\": 0, \"ticks\": \"\"}, \"type\": \"contourcarpet\"}], \"heatmap\": [{\"colorbar\": {\"outlinewidth\": 0, \"ticks\": \"\"}, \"colorscale\": [[0.0, \"#0d0887\"], [0.1111111111111111, \"#46039f\"], [0.2222222222222222, \"#7201a8\"], [0.3333333333333333, \"#9c179e\"], [0.4444444444444444, \"#bd3786\"], [0.5555555555555556, \"#d8576b\"], [0.6666666666666666, \"#ed7953\"], [0.7777777777777778, \"#fb9f3a\"], [0.8888888888888888, \"#fdca26\"], [1.0, \"#f0f921\"]], \"type\": \"heatmap\"}], \"heatmapgl\": [{\"colorbar\": {\"outlinewidth\": 0, \"ticks\": \"\"}, \"colorscale\": [[0.0, \"#0d0887\"], [0.1111111111111111, \"#46039f\"], [0.2222222222222222, \"#7201a8\"], [0.3333333333333333, \"#9c179e\"], [0.4444444444444444, \"#bd3786\"], [0.5555555555555556, \"#d8576b\"], [0.6666666666666666, \"#ed7953\"], [0.7777777777777778, \"#fb9f3a\"], [0.8888888888888888, \"#fdca26\"], [1.0, \"#f0f921\"]], \"type\": \"heatmapgl\"}], \"histogram\": [{\"marker\": {\"colorbar\": {\"outlinewidth\": 0, \"ticks\": \"\"}}, \"type\": \"histogram\"}], \"histogram2d\": [{\"colorbar\": {\"outlinewidth\": 0, \"ticks\": \"\"}, \"colorscale\": [[0.0, \"#0d0887\"], [0.1111111111111111, \"#46039f\"], [0.2222222222222222, \"#7201a8\"], [0.3333333333333333, \"#9c179e\"], [0.4444444444444444, \"#bd3786\"], [0.5555555555555556, \"#d8576b\"], [0.6666666666666666, \"#ed7953\"], [0.7777777777777778, \"#fb9f3a\"], [0.8888888888888888, \"#fdca26\"], [1.0, \"#f0f921\"]], \"type\": \"histogram2d\"}], \"histogram2dcontour\": [{\"colorbar\": {\"outlinewidth\": 0, \"ticks\": \"\"}, \"colorscale\": [[0.0, \"#0d0887\"], [0.1111111111111111, \"#46039f\"], [0.2222222222222222, \"#7201a8\"], [0.3333333333333333, \"#9c179e\"], [0.4444444444444444, \"#bd3786\"], [0.5555555555555556, \"#d8576b\"], [0.6666666666666666, \"#ed7953\"], [0.7777777777777778, \"#fb9f3a\"], [0.8888888888888888, \"#fdca26\"], [1.0, \"#f0f921\"]], \"type\": \"histogram2dcontour\"}], \"mesh3d\": [{\"colorbar\": {\"outlinewidth\": 0, \"ticks\": \"\"}, \"type\": \"mesh3d\"}], \"parcoords\": [{\"line\": {\"colorbar\": {\"outlinewidth\": 0, \"ticks\": \"\"}}, \"type\": \"parcoords\"}], \"scatter\": [{\"marker\": {\"colorbar\": {\"outlinewidth\": 0, \"ticks\": \"\"}}, \"type\": \"scatter\"}], \"scatter3d\": [{\"line\": {\"colorbar\": {\"outlinewidth\": 0, \"ticks\": \"\"}}, \"marker\": {\"colorbar\": {\"outlinewidth\": 0, \"ticks\": \"\"}}, \"type\": \"scatter3d\"}], \"scattercarpet\": [{\"marker\": {\"colorbar\": {\"outlinewidth\": 0, \"ticks\": \"\"}}, \"type\": \"scattercarpet\"}], \"scattergeo\": [{\"marker\": {\"colorbar\": {\"outlinewidth\": 0, \"ticks\": \"\"}}, \"type\": \"scattergeo\"}], \"scattergl\": [{\"marker\": {\"colorbar\": {\"outlinewidth\": 0, \"ticks\": \"\"}}, \"type\": \"scattergl\"}], \"scattermapbox\": [{\"marker\": {\"colorbar\": {\"outlinewidth\": 0, \"ticks\": \"\"}}, \"type\": \"scattermapbox\"}], \"scatterpolar\": [{\"marker\": {\"colorbar\": {\"outlinewidth\": 0, \"ticks\": \"\"}}, \"type\": \"scatterpolar\"}], \"scatterpolargl\": [{\"marker\": {\"colorbar\": {\"outlinewidth\": 0, \"ticks\": \"\"}}, \"type\": \"scatterpolargl\"}], \"scatterternary\": [{\"marker\": {\"colorbar\": {\"outlinewidth\": 0, \"ticks\": \"\"}}, \"type\": \"scatterternary\"}], \"surface\": [{\"colorbar\": {\"outlinewidth\": 0, \"ticks\": \"\"}, \"colorscale\": [[0.0, \"#0d0887\"], [0.1111111111111111, \"#46039f\"], [0.2222222222222222, \"#7201a8\"], [0.3333333333333333, \"#9c179e\"], [0.4444444444444444, \"#bd3786\"], [0.5555555555555556, \"#d8576b\"], [0.6666666666666666, \"#ed7953\"], [0.7777777777777778, \"#fb9f3a\"], [0.8888888888888888, \"#fdca26\"], [1.0, \"#f0f921\"]], \"type\": \"surface\"}], \"table\": [{\"cells\": {\"fill\": {\"color\": \"#EBF0F8\"}, \"line\": {\"color\": \"white\"}}, \"header\": {\"fill\": {\"color\": \"#C8D4E3\"}, \"line\": {\"color\": \"white\"}}, \"type\": \"table\"}]}, \"layout\": {\"annotationdefaults\": {\"arrowcolor\": \"#2a3f5f\", \"arrowhead\": 0, \"arrowwidth\": 1}, \"colorscale\": {\"diverging\": [[0, \"#8e0152\"], [0.1, \"#c51b7d\"], [0.2, \"#de77ae\"], [0.3, \"#f1b6da\"], [0.4, \"#fde0ef\"], [0.5, \"#f7f7f7\"], [0.6, \"#e6f5d0\"], [0.7, \"#b8e186\"], [0.8, \"#7fbc41\"], [0.9, \"#4d9221\"], [1, \"#276419\"]], \"sequential\": [[0.0, \"#0d0887\"], [0.1111111111111111, \"#46039f\"], [0.2222222222222222, \"#7201a8\"], [0.3333333333333333, \"#9c179e\"], [0.4444444444444444, \"#bd3786\"], [0.5555555555555556, \"#d8576b\"], [0.6666666666666666, \"#ed7953\"], [0.7777777777777778, \"#fb9f3a\"], [0.8888888888888888, \"#fdca26\"], [1.0, \"#f0f921\"]], \"sequentialminus\": [[0.0, \"#0d0887\"], [0.1111111111111111, \"#46039f\"], [0.2222222222222222, \"#7201a8\"], [0.3333333333333333, \"#9c179e\"], [0.4444444444444444, \"#bd3786\"], [0.5555555555555556, \"#d8576b\"], [0.6666666666666666, \"#ed7953\"], [0.7777777777777778, \"#fb9f3a\"], [0.8888888888888888, \"#fdca26\"], [1.0, \"#f0f921\"]]}, \"colorway\": [\"#636efa\", \"#EF553B\", \"#00cc96\", \"#ab63fa\", \"#FFA15A\", \"#19d3f3\", \"#FF6692\", \"#B6E880\", \"#FF97FF\", \"#FECB52\"], \"font\": {\"color\": \"#2a3f5f\"}, \"geo\": {\"bgcolor\": \"white\", \"lakecolor\": \"white\", \"landcolor\": \"#E5ECF6\", \"showlakes\": true, \"showland\": true, \"subunitcolor\": \"white\"}, \"hoverlabel\": {\"align\": \"left\"}, \"hovermode\": \"closest\", \"mapbox\": {\"style\": \"light\"}, \"paper_bgcolor\": \"white\", \"plot_bgcolor\": \"#E5ECF6\", \"polar\": {\"angularaxis\": {\"gridcolor\": \"white\", \"linecolor\": \"white\", \"ticks\": \"\"}, \"bgcolor\": \"#E5ECF6\", \"radialaxis\": {\"gridcolor\": \"white\", \"linecolor\": \"white\", \"ticks\": \"\"}}, \"scene\": {\"xaxis\": {\"backgroundcolor\": \"#E5ECF6\", \"gridcolor\": \"white\", \"gridwidth\": 2, \"linecolor\": \"white\", \"showbackground\": true, \"ticks\": \"\", \"zerolinecolor\": \"white\"}, \"yaxis\": {\"backgroundcolor\": \"#E5ECF6\", \"gridcolor\": \"white\", \"gridwidth\": 2, \"linecolor\": \"white\", \"showbackground\": true, \"ticks\": \"\", \"zerolinecolor\": \"white\"}, \"zaxis\": {\"backgroundcolor\": \"#E5ECF6\", \"gridcolor\": \"white\", \"gridwidth\": 2, \"linecolor\": \"white\", \"showbackground\": true, \"ticks\": \"\", \"zerolinecolor\": \"white\"}}, \"shapedefaults\": {\"line\": {\"color\": \"#2a3f5f\"}}, \"ternary\": {\"aaxis\": {\"gridcolor\": \"white\", \"linecolor\": \"white\", \"ticks\": \"\"}, \"baxis\": {\"gridcolor\": \"white\", \"linecolor\": \"white\", \"ticks\": \"\"}, \"bgcolor\": \"#E5ECF6\", \"caxis\": {\"gridcolor\": \"white\", \"linecolor\": \"white\", \"ticks\": \"\"}}, \"title\": {\"x\": 0.05}, \"xaxis\": {\"automargin\": true, \"gridcolor\": \"white\", \"linecolor\": \"white\", \"ticks\": \"\", \"zerolinecolor\": \"white\", \"zerolinewidth\": 2}, \"yaxis\": {\"automargin\": true, \"gridcolor\": \"white\", \"linecolor\": \"white\", \"ticks\": \"\", \"zerolinecolor\": \"white\", \"zerolinewidth\": 2}}}},\n",
              "                        {\"responsive\": true}\n",
              "                    ).then(function(){\n",
              "                            \n",
              "var gd = document.getElementById('c1704ddf-0107-47ec-a6ea-2fd0ce5554b2');\n",
              "var x = new MutationObserver(function (mutations, observer) {{\n",
              "        var display = window.getComputedStyle(gd).display;\n",
              "        if (!display || display === 'none') {{\n",
              "            console.log([gd, 'removed!']);\n",
              "            Plotly.purge(gd);\n",
              "            observer.disconnect();\n",
              "        }}\n",
              "}});\n",
              "\n",
              "// Listen for the removal of the full notebook cells\n",
              "var notebookContainer = gd.closest('#notebook-container');\n",
              "if (notebookContainer) {{\n",
              "    x.observe(notebookContainer, {childList: true});\n",
              "}}\n",
              "\n",
              "// Listen for the clearing of the current output cell\n",
              "var outputEl = gd.closest('.output');\n",
              "if (outputEl) {{\n",
              "    x.observe(outputEl, {childList: true});\n",
              "}}\n",
              "\n",
              "                        })\n",
              "                };\n",
              "                \n",
              "            </script>\n",
              "        </div>\n",
              "</body>\n",
              "</html>"
            ]
          },
          "metadata": {
            "tags": []
          }
        }
      ]
    },
    {
      "cell_type": "markdown",
      "metadata": {
        "id": "gHCeAGEVAidW",
        "colab_type": "text"
      },
      "source": [
        "Train-Test Split"
      ]
    },
    {
      "cell_type": "code",
      "metadata": {
        "id": "niwBf30BhDZS",
        "colab_type": "code",
        "colab": {}
      },
      "source": [
        "X = np.array(transaction_df.drop(['isFraud','TransactionID'],axis=1))"
      ],
      "execution_count": 0,
      "outputs": []
    },
    {
      "cell_type": "code",
      "metadata": {
        "id": "95QV_sGOhww0",
        "colab_type": "code",
        "colab": {}
      },
      "source": [
        "Y = np.array(transaction_df['isFraud']).reshape((-1,))"
      ],
      "execution_count": 0,
      "outputs": []
    },
    {
      "cell_type": "code",
      "metadata": {
        "id": "LkLOm_NNh74I",
        "colab_type": "code",
        "colab": {}
      },
      "source": [
        "del transaction_df"
      ],
      "execution_count": 0,
      "outputs": []
    },
    {
      "cell_type": "code",
      "metadata": {
        "id": "bP17uXEVgJCN",
        "colab_type": "code",
        "colab": {}
      },
      "source": [
        "x_train09, x_test09, y_train09, y_test09 = train_test_split(X,Y, test_size = 0.1, stratify = Y)\n",
        "x_train05, x_test05, y_train05, y_test05 = train_test_split(X,Y, test_size = 0.5, stratify = Y)"
      ],
      "execution_count": 0,
      "outputs": []
    },
    {
      "cell_type": "markdown",
      "metadata": {
        "id": "-Qfldu8KAlRg",
        "colab_type": "text"
      },
      "source": [
        "Missingness Imputation"
      ]
    },
    {
      "cell_type": "code",
      "metadata": {
        "id": "haEojAupX8qv",
        "colab_type": "code",
        "colab": {
          "base_uri": "https://localhost:8080/",
          "height": 34
        },
        "outputId": "7efbd4e3-02b2-4184-9526-520bb7d64d0c"
      },
      "source": [
        "x_train09[:,cat_start_idx]\n",
        "         "
      ],
      "execution_count": 108,
      "outputs": [
        {
          "output_type": "execute_result",
          "data": {
            "text/plain": [
              "array([0, 0, 0, ..., 0, 0, 0], dtype=object)"
            ]
          },
          "metadata": {
            "tags": []
          },
          "execution_count": 108
        }
      ]
    },
    {
      "cell_type": "code",
      "metadata": {
        "id": "LcUIJGd2jRPT",
        "colab_type": "code",
        "colab": {}
      },
      "source": [
        "imputer = SimpleImputer().fit(x_train09)\n",
        "x_train09 = imputer.transform(x_train09)\n",
        "x_test09 = imputer.transform(x_test09)\n",
        "\n",
        "scaler = StandardScaler().fit(x_train09[:,:cat_start_idx])\n",
        "x_train09 = np.concatenate((scaler.transform(x_train09[:,:cat_start_idx]), x_train09[:,cat_start_idx:]),axis=1)\n",
        "x_test09 = np.concatenate((scaler.transform(x_test09[:,:cat_start_idx]), x_test09[:,cat_start_idx:]),axis=1)"
      ],
      "execution_count": 0,
      "outputs": []
    },
    {
      "cell_type": "code",
      "metadata": {
        "id": "UPRHELReO8k_",
        "colab_type": "code",
        "colab": {
          "base_uri": "https://localhost:8080/",
          "height": 139
        },
        "outputId": "5643c43c-b155-486e-87ea-2a7c0f8f10c9"
      },
      "source": [
        ""
      ],
      "execution_count": 117,
      "outputs": [
        {
          "output_type": "execute_result",
          "data": {
            "text/plain": [
              "array([[0., 0., 1., 0., 0.],\n",
              "       [0., 0., 1., 0., 1.],\n",
              "       [0., 0., 1., 0., 1.],\n",
              "       ...,\n",
              "       [0., 0., 1., 0., 1.],\n",
              "       [0., 0., 1., 0., 0.],\n",
              "       [0., 0., 1., 0., 1.]])"
            ]
          },
          "metadata": {
            "tags": []
          },
          "execution_count": 117
        }
      ]
    },
    {
      "cell_type": "markdown",
      "metadata": {
        "id": "h8lhWfByApOg",
        "colab_type": "text"
      },
      "source": [
        "Model Fitting for N-learn = 0.9"
      ]
    },
    {
      "cell_type": "code",
      "metadata": {
        "id": "1ZQzj1qTBDAe",
        "colab_type": "code",
        "colab": {}
      },
      "source": [
        "### Data capture lists: Train/Test/Cross-Validation Errors and Execution Time\n",
        "\n",
        "logit_train_ls = []\n",
        "logit_test_ls = []\n",
        "logit_auc = []\n",
        "\n",
        "\n",
        "logit_ridge_train_ls = []\n",
        "logit_ridge_test_ls = []\n",
        "logit_ridge_auc = []\n",
        "\n",
        "logit_lasso_train_ls = []\n",
        "logit_lasso_test_ls = []\n",
        "logit_lasso_auc = []\n",
        "\n",
        "rf_train_ls = []\n",
        "rf_test_ls = []\n",
        "rf_auc = []\n",
        "\n",
        "svm_train_ls = []\n",
        "svm_test_ls = []\n",
        "svm_auc = []\n",
        "\n",
        "logit_time = []\n",
        "logit_ridge_time = []\n",
        "logit_lasso_time = []\n",
        "svm_time = []\n",
        "rf_time = []\n",
        "\n",
        "logit_ridge_cv_time = []\n",
        "logit_lasso_cv_time = []\n",
        "svm_cv_time = []\n",
        "\n"
      ],
      "execution_count": 0,
      "outputs": []
    },
    {
      "cell_type": "code",
      "metadata": {
        "id": "GEtsaNR1C5wK",
        "colab_type": "code",
        "colab": {}
      },
      "source": [
        "sample_weights = compute_sample_weight('balanced',y_train09)\n",
        "\n",
        "### Logistic Regression\n",
        "\n",
        "# logit = LogisticRegression(penalty = 'none', class_weight = sample_weights,n_jobs=-1,\n",
        "#                            solver = 'lbfgs')\n",
        "\n",
        "# t_start = timeit.default_timer()\n",
        "# logit.fit(x_train09,y_train09,sample_weight=sample_weights)\n",
        "# t_end = timeit.default_timer()\n",
        "\n",
        "# train_preds = logit.predict(x_train09)\n",
        "# test_preds = logit.predict(x_test09)\n",
        "\n",
        "# logit_train_ls.append(1-accuracy_score(y_train09,train_preds))\n",
        "# logit_test_ls.append(1-accuracy_score(y_test09, test_preds))\n",
        "\n",
        "# logit_auc.append(roc_auc_score(y_test09, test_preds))\n",
        "\n",
        "# logit_time.append(t_end-t_start)\n",
        "\n",
        "### Logistic Ridge (L2 Penalty)\n",
        "\n",
        "param_grid_logit = {'C' : np.linspace(1e-1,1e+3,25)}\n",
        "\n",
        "ridge = LogisticRegression(penalty = 'l2', solver = 'lbfgs', class_weight = sample_weights,\n",
        "                           n_jobs=-1)\n",
        "\n",
        "ridgeCV = GridSearchCV(ridge, param_grid_logit, cv = 10, n_jobs = -1)\n",
        "\n",
        "t_start = timeit.default_timer()\n",
        "ridgeCV.fit(x_train09, y_train09)\n",
        "t_end = timeit.default_timer()\n",
        "\n",
        "logit_ridge_cv_time.append(t_end-t_start)\n",
        "\n",
        "ridge = ridgeCV.best_estimator_\n",
        "\n",
        "t_start = timeit.default_timer()\n",
        "ridge.fit(x_train09, y_train09,sample_weight=sample_weights)\n",
        "t_end = timeit.default_timer()\n",
        "\n",
        "logit_ridge_time.append(t_end-t_start)\n",
        "\n",
        "train_preds = ridge.predict(x_train09)\n",
        "test_preds = ridge.predict(x_test09)\n",
        "\n",
        "logit_ridge_train_ls.append(1-accuracy_score(y_train09, train_preds))\n",
        "logit_ridge_test_ls.append(1-accuracy_score(y_test09, test_preds))\n",
        "logit_ridge_auc.append(roc_auc_score(y_test09, test_preds))\n",
        "\n",
        "\n"
      ],
      "execution_count": 0,
      "outputs": []
    },
    {
      "cell_type": "code",
      "metadata": {
        "id": "qkWQavaJPTiB",
        "colab_type": "code",
        "colab": {
          "base_uri": "https://localhost:8080/",
          "height": 34
        },
        "outputId": "1d949c02-f763-491d-a8e3-0b6c61ba1abf"
      },
      "source": [
        "# print(logit_train_ls,logit_test_ls,logit_auc,logit_time, '\\n')\n",
        "print(logit_ridge_train_ls, logit_ridge_test_ls, logit_ridge_auc, logit_ridge_time, logit_ridge_cv_time)"
      ],
      "execution_count": 211,
      "outputs": [
        {
          "output_type": "stream",
          "text": [
            "[0.1955513388150959] [0.20493358633776093] [0.6463897525844429] [4.018269187999977] [138.60740435899788]\n"
          ],
          "name": "stdout"
        }
      ]
    },
    {
      "cell_type": "code",
      "metadata": {
        "id": "ZTnBIs2EvOCX",
        "colab_type": "code",
        "colab": {}
      },
      "source": [
        ""
      ],
      "execution_count": 0,
      "outputs": []
    }
  ]
}